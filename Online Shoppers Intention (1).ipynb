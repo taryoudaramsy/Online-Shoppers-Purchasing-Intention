{
 "cells": [
  {
   "cell_type": "markdown",
   "id": "3a4f4f45",
   "metadata": {},
   "source": [
    "### Online Shoppers Intention\n",
    "\n",
    "The data used in this analysis is an Online Shoppers Purchasing Intention data set provided from a top ecommerce site. The data set was formed so that each session would belong to a different user in a 1-year period to avoid any tendency to a specific campaign, special day, user profile, or period.\n",
    "\n",
    "The primary purpose of the data set is to predict the purchasing intentions of a visitor to this particular store’s website."
   ]
  },
  {
   "cell_type": "markdown",
   "id": "9574fc6a",
   "metadata": {},
   "source": [
    "#### Feature Description\n",
    "\n",
    "- Administrative: This is the number of pages of this type (administrative) that the user visited.\n",
    "- Administrative_Duration: This is the amount of time spent in this category of pages.\n",
    "- Informational: This is the number of pages of this type (informational) that the user visited.\n",
    "- Informational_Duration: This is the amount of time spent in this category of pages.\n",
    "- ProductRelated: This is the number of pages of this type (product related) that the user visited.\n",
    "- ProductRelated_Duration: This is the amount of time spent in this category of pages.\n",
    "- BounceRates: The percentage of visitors who enter the website through that page and exit without triggering any additional tasks.\n",
    "- ExitRates: The percentage of pageviews on the website that end at that specific page.\n",
    "- PageValues: The average value of the page averaged over the value of the target page and/or the completion of an eCommerce transaction.\n",
    "##### More information about how this is calculated\n",
    "- SpecialDay: This value represents the closeness of the browsing date to special days or holidays (eg Mother's Day or Valentine's day) in which the transaction is more likely to be finalized. More information about how this value is calculated below.\n",
    "- Month: Contains the month the pageview occurred, in string form.\n",
    "- OperatingSystems: An integer value representing the operating system that the user was on when viewing the page.\n",
    "- Browser: An integer value representing the browser that the user was using to view the page.\n",
    "- Region: An integer value representing which region the user is located in.\n",
    "- TrafficType: An integer value representing what type of traffic the user is categorized into.\n",
    "- VisitorType: A string representing whether a visitor is New Visitor, Returning Visitor, or Other.\n",
    "- Weekend: A boolean representing whether the session is on a weekend.\n",
    "- Revenue: A boolean representing whether or not the user completed the purchase.\n"
   ]
  },
  {
   "cell_type": "markdown",
   "id": "aaad04ee",
   "metadata": {},
   "source": [
    "#### Import Libraries"
   ]
  },
  {
   "cell_type": "code",
   "execution_count": 197,
   "id": "0bb6c794",
   "metadata": {},
   "outputs": [],
   "source": [
    "#import pandas and numpy for data manipulation\n",
    "import pandas as pd\n",
    "import numpy as np\n",
    "import calendar\n",
    "#import pyplot and seaborn for visualization\n",
    "import matplotlib.pyplot as plt\n",
    "from sklearn.preprocessing import LabelEncoder\n",
    "from sklearn import preprocessing\n",
    "%matplotlib inline\n",
    "import seaborn as sns\n",
    "import scipy.stats as stats"
   ]
  },
  {
   "cell_type": "markdown",
   "id": "5ffb11b1",
   "metadata": {},
   "source": [
    "#### Data Inspection"
   ]
  },
  {
   "cell_type": "code",
   "execution_count": 198,
   "id": "617e61ef",
   "metadata": {},
   "outputs": [],
   "source": [
    "data = pd.read_csv('online_shoppers_intention.csv', index_col=False)"
   ]
  },
  {
   "cell_type": "code",
   "execution_count": 199,
   "id": "71b44b7e",
   "metadata": {},
   "outputs": [
    {
     "data": {
      "text/html": [
       "<div>\n",
       "<style scoped>\n",
       "    .dataframe tbody tr th:only-of-type {\n",
       "        vertical-align: middle;\n",
       "    }\n",
       "\n",
       "    .dataframe tbody tr th {\n",
       "        vertical-align: top;\n",
       "    }\n",
       "\n",
       "    .dataframe thead th {\n",
       "        text-align: right;\n",
       "    }\n",
       "</style>\n",
       "<table border=\"1\" class=\"dataframe\">\n",
       "  <thead>\n",
       "    <tr style=\"text-align: right;\">\n",
       "      <th></th>\n",
       "      <th>Administrative</th>\n",
       "      <th>Administrative_Duration</th>\n",
       "      <th>Informational</th>\n",
       "      <th>Informational_Duration</th>\n",
       "      <th>ProductRelated</th>\n",
       "      <th>ProductRelated_Duration</th>\n",
       "      <th>BounceRates</th>\n",
       "      <th>ExitRates</th>\n",
       "      <th>PageValues</th>\n",
       "      <th>SpecialDay</th>\n",
       "      <th>Month</th>\n",
       "      <th>OperatingSystems</th>\n",
       "      <th>Browser</th>\n",
       "      <th>Region</th>\n",
       "      <th>TrafficType</th>\n",
       "      <th>VisitorType</th>\n",
       "      <th>Weekend</th>\n",
       "      <th>Revenue</th>\n",
       "    </tr>\n",
       "  </thead>\n",
       "  <tbody>\n",
       "    <tr>\n",
       "      <th>0</th>\n",
       "      <td>0</td>\n",
       "      <td>0.0</td>\n",
       "      <td>0</td>\n",
       "      <td>0.0</td>\n",
       "      <td>1</td>\n",
       "      <td>0.000000</td>\n",
       "      <td>0.20</td>\n",
       "      <td>0.20</td>\n",
       "      <td>0.0</td>\n",
       "      <td>0.0</td>\n",
       "      <td>Feb</td>\n",
       "      <td>1</td>\n",
       "      <td>1</td>\n",
       "      <td>1</td>\n",
       "      <td>1</td>\n",
       "      <td>Returning_Visitor</td>\n",
       "      <td>False</td>\n",
       "      <td>False</td>\n",
       "    </tr>\n",
       "    <tr>\n",
       "      <th>1</th>\n",
       "      <td>0</td>\n",
       "      <td>0.0</td>\n",
       "      <td>0</td>\n",
       "      <td>0.0</td>\n",
       "      <td>2</td>\n",
       "      <td>64.000000</td>\n",
       "      <td>0.00</td>\n",
       "      <td>0.10</td>\n",
       "      <td>0.0</td>\n",
       "      <td>0.0</td>\n",
       "      <td>Feb</td>\n",
       "      <td>2</td>\n",
       "      <td>2</td>\n",
       "      <td>1</td>\n",
       "      <td>2</td>\n",
       "      <td>Returning_Visitor</td>\n",
       "      <td>False</td>\n",
       "      <td>False</td>\n",
       "    </tr>\n",
       "    <tr>\n",
       "      <th>2</th>\n",
       "      <td>0</td>\n",
       "      <td>0.0</td>\n",
       "      <td>0</td>\n",
       "      <td>0.0</td>\n",
       "      <td>1</td>\n",
       "      <td>0.000000</td>\n",
       "      <td>0.20</td>\n",
       "      <td>0.20</td>\n",
       "      <td>0.0</td>\n",
       "      <td>0.0</td>\n",
       "      <td>Feb</td>\n",
       "      <td>4</td>\n",
       "      <td>1</td>\n",
       "      <td>9</td>\n",
       "      <td>3</td>\n",
       "      <td>Returning_Visitor</td>\n",
       "      <td>False</td>\n",
       "      <td>False</td>\n",
       "    </tr>\n",
       "    <tr>\n",
       "      <th>3</th>\n",
       "      <td>0</td>\n",
       "      <td>0.0</td>\n",
       "      <td>0</td>\n",
       "      <td>0.0</td>\n",
       "      <td>2</td>\n",
       "      <td>2.666667</td>\n",
       "      <td>0.05</td>\n",
       "      <td>0.14</td>\n",
       "      <td>0.0</td>\n",
       "      <td>0.0</td>\n",
       "      <td>Feb</td>\n",
       "      <td>3</td>\n",
       "      <td>2</td>\n",
       "      <td>2</td>\n",
       "      <td>4</td>\n",
       "      <td>Returning_Visitor</td>\n",
       "      <td>False</td>\n",
       "      <td>False</td>\n",
       "    </tr>\n",
       "    <tr>\n",
       "      <th>4</th>\n",
       "      <td>0</td>\n",
       "      <td>0.0</td>\n",
       "      <td>0</td>\n",
       "      <td>0.0</td>\n",
       "      <td>10</td>\n",
       "      <td>627.500000</td>\n",
       "      <td>0.02</td>\n",
       "      <td>0.05</td>\n",
       "      <td>0.0</td>\n",
       "      <td>0.0</td>\n",
       "      <td>Feb</td>\n",
       "      <td>3</td>\n",
       "      <td>3</td>\n",
       "      <td>1</td>\n",
       "      <td>4</td>\n",
       "      <td>Returning_Visitor</td>\n",
       "      <td>True</td>\n",
       "      <td>False</td>\n",
       "    </tr>\n",
       "  </tbody>\n",
       "</table>\n",
       "</div>"
      ],
      "text/plain": [
       "   Administrative  Administrative_Duration  Informational  \\\n",
       "0               0                      0.0              0   \n",
       "1               0                      0.0              0   \n",
       "2               0                      0.0              0   \n",
       "3               0                      0.0              0   \n",
       "4               0                      0.0              0   \n",
       "\n",
       "   Informational_Duration  ProductRelated  ProductRelated_Duration  \\\n",
       "0                     0.0               1                 0.000000   \n",
       "1                     0.0               2                64.000000   \n",
       "2                     0.0               1                 0.000000   \n",
       "3                     0.0               2                 2.666667   \n",
       "4                     0.0              10               627.500000   \n",
       "\n",
       "   BounceRates  ExitRates  PageValues  SpecialDay Month  OperatingSystems  \\\n",
       "0         0.20       0.20         0.0         0.0   Feb                 1   \n",
       "1         0.00       0.10         0.0         0.0   Feb                 2   \n",
       "2         0.20       0.20         0.0         0.0   Feb                 4   \n",
       "3         0.05       0.14         0.0         0.0   Feb                 3   \n",
       "4         0.02       0.05         0.0         0.0   Feb                 3   \n",
       "\n",
       "   Browser  Region  TrafficType        VisitorType  Weekend  Revenue  \n",
       "0        1       1            1  Returning_Visitor    False    False  \n",
       "1        2       1            2  Returning_Visitor    False    False  \n",
       "2        1       9            3  Returning_Visitor    False    False  \n",
       "3        2       2            4  Returning_Visitor    False    False  \n",
       "4        3       1            4  Returning_Visitor     True    False  "
      ]
     },
     "execution_count": 199,
     "metadata": {},
     "output_type": "execute_result"
    }
   ],
   "source": [
    "data.head()"
   ]
  },
  {
   "cell_type": "code",
   "execution_count": 200,
   "id": "b9ae8cc1",
   "metadata": {},
   "outputs": [
    {
     "data": {
      "text/html": [
       "<div>\n",
       "<style scoped>\n",
       "    .dataframe tbody tr th:only-of-type {\n",
       "        vertical-align: middle;\n",
       "    }\n",
       "\n",
       "    .dataframe tbody tr th {\n",
       "        vertical-align: top;\n",
       "    }\n",
       "\n",
       "    .dataframe thead th {\n",
       "        text-align: right;\n",
       "    }\n",
       "</style>\n",
       "<table border=\"1\" class=\"dataframe\">\n",
       "  <thead>\n",
       "    <tr style=\"text-align: right;\">\n",
       "      <th></th>\n",
       "      <th>Administrative</th>\n",
       "      <th>Administrative_Duration</th>\n",
       "      <th>Informational</th>\n",
       "      <th>Informational_Duration</th>\n",
       "      <th>ProductRelated</th>\n",
       "      <th>ProductRelated_Duration</th>\n",
       "      <th>BounceRates</th>\n",
       "      <th>ExitRates</th>\n",
       "      <th>PageValues</th>\n",
       "      <th>SpecialDay</th>\n",
       "      <th>Month</th>\n",
       "      <th>OperatingSystems</th>\n",
       "      <th>Browser</th>\n",
       "      <th>Region</th>\n",
       "      <th>TrafficType</th>\n",
       "      <th>VisitorType</th>\n",
       "      <th>Weekend</th>\n",
       "      <th>Revenue</th>\n",
       "    </tr>\n",
       "  </thead>\n",
       "  <tbody>\n",
       "    <tr>\n",
       "      <th>12325</th>\n",
       "      <td>3</td>\n",
       "      <td>145.0</td>\n",
       "      <td>0</td>\n",
       "      <td>0.0</td>\n",
       "      <td>53</td>\n",
       "      <td>1783.791667</td>\n",
       "      <td>0.007143</td>\n",
       "      <td>0.029031</td>\n",
       "      <td>12.241717</td>\n",
       "      <td>0.0</td>\n",
       "      <td>Dec</td>\n",
       "      <td>4</td>\n",
       "      <td>6</td>\n",
       "      <td>1</td>\n",
       "      <td>1</td>\n",
       "      <td>Returning_Visitor</td>\n",
       "      <td>True</td>\n",
       "      <td>False</td>\n",
       "    </tr>\n",
       "    <tr>\n",
       "      <th>12326</th>\n",
       "      <td>0</td>\n",
       "      <td>0.0</td>\n",
       "      <td>0</td>\n",
       "      <td>0.0</td>\n",
       "      <td>5</td>\n",
       "      <td>465.750000</td>\n",
       "      <td>0.000000</td>\n",
       "      <td>0.021333</td>\n",
       "      <td>0.000000</td>\n",
       "      <td>0.0</td>\n",
       "      <td>Nov</td>\n",
       "      <td>3</td>\n",
       "      <td>2</td>\n",
       "      <td>1</td>\n",
       "      <td>8</td>\n",
       "      <td>Returning_Visitor</td>\n",
       "      <td>True</td>\n",
       "      <td>False</td>\n",
       "    </tr>\n",
       "    <tr>\n",
       "      <th>12327</th>\n",
       "      <td>0</td>\n",
       "      <td>0.0</td>\n",
       "      <td>0</td>\n",
       "      <td>0.0</td>\n",
       "      <td>6</td>\n",
       "      <td>184.250000</td>\n",
       "      <td>0.083333</td>\n",
       "      <td>0.086667</td>\n",
       "      <td>0.000000</td>\n",
       "      <td>0.0</td>\n",
       "      <td>Nov</td>\n",
       "      <td>3</td>\n",
       "      <td>2</td>\n",
       "      <td>1</td>\n",
       "      <td>13</td>\n",
       "      <td>Returning_Visitor</td>\n",
       "      <td>True</td>\n",
       "      <td>False</td>\n",
       "    </tr>\n",
       "    <tr>\n",
       "      <th>12328</th>\n",
       "      <td>4</td>\n",
       "      <td>75.0</td>\n",
       "      <td>0</td>\n",
       "      <td>0.0</td>\n",
       "      <td>15</td>\n",
       "      <td>346.000000</td>\n",
       "      <td>0.000000</td>\n",
       "      <td>0.021053</td>\n",
       "      <td>0.000000</td>\n",
       "      <td>0.0</td>\n",
       "      <td>Nov</td>\n",
       "      <td>2</td>\n",
       "      <td>2</td>\n",
       "      <td>3</td>\n",
       "      <td>11</td>\n",
       "      <td>Returning_Visitor</td>\n",
       "      <td>False</td>\n",
       "      <td>False</td>\n",
       "    </tr>\n",
       "    <tr>\n",
       "      <th>12329</th>\n",
       "      <td>0</td>\n",
       "      <td>0.0</td>\n",
       "      <td>0</td>\n",
       "      <td>0.0</td>\n",
       "      <td>3</td>\n",
       "      <td>21.250000</td>\n",
       "      <td>0.000000</td>\n",
       "      <td>0.066667</td>\n",
       "      <td>0.000000</td>\n",
       "      <td>0.0</td>\n",
       "      <td>Nov</td>\n",
       "      <td>3</td>\n",
       "      <td>2</td>\n",
       "      <td>1</td>\n",
       "      <td>2</td>\n",
       "      <td>New_Visitor</td>\n",
       "      <td>True</td>\n",
       "      <td>False</td>\n",
       "    </tr>\n",
       "  </tbody>\n",
       "</table>\n",
       "</div>"
      ],
      "text/plain": [
       "       Administrative  Administrative_Duration  Informational  \\\n",
       "12325               3                    145.0              0   \n",
       "12326               0                      0.0              0   \n",
       "12327               0                      0.0              0   \n",
       "12328               4                     75.0              0   \n",
       "12329               0                      0.0              0   \n",
       "\n",
       "       Informational_Duration  ProductRelated  ProductRelated_Duration  \\\n",
       "12325                     0.0              53              1783.791667   \n",
       "12326                     0.0               5               465.750000   \n",
       "12327                     0.0               6               184.250000   \n",
       "12328                     0.0              15               346.000000   \n",
       "12329                     0.0               3                21.250000   \n",
       "\n",
       "       BounceRates  ExitRates  PageValues  SpecialDay Month  OperatingSystems  \\\n",
       "12325     0.007143   0.029031   12.241717         0.0   Dec                 4   \n",
       "12326     0.000000   0.021333    0.000000         0.0   Nov                 3   \n",
       "12327     0.083333   0.086667    0.000000         0.0   Nov                 3   \n",
       "12328     0.000000   0.021053    0.000000         0.0   Nov                 2   \n",
       "12329     0.000000   0.066667    0.000000         0.0   Nov                 3   \n",
       "\n",
       "       Browser  Region  TrafficType        VisitorType  Weekend  Revenue  \n",
       "12325        6       1            1  Returning_Visitor     True    False  \n",
       "12326        2       1            8  Returning_Visitor     True    False  \n",
       "12327        2       1           13  Returning_Visitor     True    False  \n",
       "12328        2       3           11  Returning_Visitor    False    False  \n",
       "12329        2       1            2        New_Visitor     True    False  "
      ]
     },
     "execution_count": 200,
     "metadata": {},
     "output_type": "execute_result"
    }
   ],
   "source": [
    "data.tail()"
   ]
  },
  {
   "cell_type": "code",
   "execution_count": 201,
   "id": "127e62f3",
   "metadata": {},
   "outputs": [
    {
     "data": {
      "text/plain": [
       "Index(['Administrative', 'Administrative_Duration', 'Informational',\n",
       "       'Informational_Duration', 'ProductRelated', 'ProductRelated_Duration',\n",
       "       'BounceRates', 'ExitRates', 'PageValues', 'SpecialDay', 'Month',\n",
       "       'OperatingSystems', 'Browser', 'Region', 'TrafficType', 'VisitorType',\n",
       "       'Weekend', 'Revenue'],\n",
       "      dtype='object')"
      ]
     },
     "execution_count": 201,
     "metadata": {},
     "output_type": "execute_result"
    }
   ],
   "source": [
    "data.columns"
   ]
  },
  {
   "cell_type": "code",
   "execution_count": 202,
   "id": "48de1c24",
   "metadata": {},
   "outputs": [
    {
     "name": "stdout",
     "output_type": "stream",
     "text": [
      "<class 'pandas.core.frame.DataFrame'>\n",
      "RangeIndex: 12330 entries, 0 to 12329\n",
      "Data columns (total 18 columns):\n",
      " #   Column                   Non-Null Count  Dtype  \n",
      "---  ------                   --------------  -----  \n",
      " 0   Administrative           12330 non-null  int64  \n",
      " 1   Administrative_Duration  12330 non-null  float64\n",
      " 2   Informational            12330 non-null  int64  \n",
      " 3   Informational_Duration   12330 non-null  float64\n",
      " 4   ProductRelated           12330 non-null  int64  \n",
      " 5   ProductRelated_Duration  12330 non-null  float64\n",
      " 6   BounceRates              12330 non-null  float64\n",
      " 7   ExitRates                12330 non-null  float64\n",
      " 8   PageValues               12330 non-null  float64\n",
      " 9   SpecialDay               12330 non-null  float64\n",
      " 10  Month                    12330 non-null  object \n",
      " 11  OperatingSystems         12330 non-null  int64  \n",
      " 12  Browser                  12330 non-null  int64  \n",
      " 13  Region                   12330 non-null  int64  \n",
      " 14  TrafficType              12330 non-null  int64  \n",
      " 15  VisitorType              12330 non-null  object \n",
      " 16  Weekend                  12330 non-null  bool   \n",
      " 17  Revenue                  12330 non-null  bool   \n",
      "dtypes: bool(2), float64(7), int64(7), object(2)\n",
      "memory usage: 1.5+ MB\n"
     ]
    }
   ],
   "source": [
    "data.info()"
   ]
  },
  {
   "cell_type": "code",
   "execution_count": 203,
   "id": "2a705850",
   "metadata": {},
   "outputs": [
    {
     "data": {
      "text/html": [
       "<div>\n",
       "<style scoped>\n",
       "    .dataframe tbody tr th:only-of-type {\n",
       "        vertical-align: middle;\n",
       "    }\n",
       "\n",
       "    .dataframe tbody tr th {\n",
       "        vertical-align: top;\n",
       "    }\n",
       "\n",
       "    .dataframe thead th {\n",
       "        text-align: right;\n",
       "    }\n",
       "</style>\n",
       "<table border=\"1\" class=\"dataframe\">\n",
       "  <thead>\n",
       "    <tr style=\"text-align: right;\">\n",
       "      <th></th>\n",
       "      <th>Administrative</th>\n",
       "      <th>Administrative_Duration</th>\n",
       "      <th>Informational</th>\n",
       "      <th>Informational_Duration</th>\n",
       "      <th>ProductRelated</th>\n",
       "      <th>ProductRelated_Duration</th>\n",
       "      <th>BounceRates</th>\n",
       "      <th>ExitRates</th>\n",
       "      <th>PageValues</th>\n",
       "      <th>SpecialDay</th>\n",
       "      <th>OperatingSystems</th>\n",
       "      <th>Browser</th>\n",
       "      <th>Region</th>\n",
       "      <th>TrafficType</th>\n",
       "    </tr>\n",
       "  </thead>\n",
       "  <tbody>\n",
       "    <tr>\n",
       "      <th>count</th>\n",
       "      <td>12330.000000</td>\n",
       "      <td>12330.000000</td>\n",
       "      <td>12330.000000</td>\n",
       "      <td>12330.000000</td>\n",
       "      <td>12330.000000</td>\n",
       "      <td>12330.000000</td>\n",
       "      <td>12330.000000</td>\n",
       "      <td>12330.000000</td>\n",
       "      <td>12330.000000</td>\n",
       "      <td>12330.000000</td>\n",
       "      <td>12330.000000</td>\n",
       "      <td>12330.000000</td>\n",
       "      <td>12330.000000</td>\n",
       "      <td>12330.000000</td>\n",
       "    </tr>\n",
       "    <tr>\n",
       "      <th>mean</th>\n",
       "      <td>2.315166</td>\n",
       "      <td>80.818611</td>\n",
       "      <td>0.503569</td>\n",
       "      <td>34.472398</td>\n",
       "      <td>31.731468</td>\n",
       "      <td>1194.746220</td>\n",
       "      <td>0.022191</td>\n",
       "      <td>0.043073</td>\n",
       "      <td>5.889258</td>\n",
       "      <td>0.061427</td>\n",
       "      <td>2.124006</td>\n",
       "      <td>2.357097</td>\n",
       "      <td>3.147364</td>\n",
       "      <td>4.069586</td>\n",
       "    </tr>\n",
       "    <tr>\n",
       "      <th>std</th>\n",
       "      <td>3.321784</td>\n",
       "      <td>176.779107</td>\n",
       "      <td>1.270156</td>\n",
       "      <td>140.749294</td>\n",
       "      <td>44.475503</td>\n",
       "      <td>1913.669288</td>\n",
       "      <td>0.048488</td>\n",
       "      <td>0.048597</td>\n",
       "      <td>18.568437</td>\n",
       "      <td>0.198917</td>\n",
       "      <td>0.911325</td>\n",
       "      <td>1.717277</td>\n",
       "      <td>2.401591</td>\n",
       "      <td>4.025169</td>\n",
       "    </tr>\n",
       "    <tr>\n",
       "      <th>min</th>\n",
       "      <td>0.000000</td>\n",
       "      <td>0.000000</td>\n",
       "      <td>0.000000</td>\n",
       "      <td>0.000000</td>\n",
       "      <td>0.000000</td>\n",
       "      <td>0.000000</td>\n",
       "      <td>0.000000</td>\n",
       "      <td>0.000000</td>\n",
       "      <td>0.000000</td>\n",
       "      <td>0.000000</td>\n",
       "      <td>1.000000</td>\n",
       "      <td>1.000000</td>\n",
       "      <td>1.000000</td>\n",
       "      <td>1.000000</td>\n",
       "    </tr>\n",
       "    <tr>\n",
       "      <th>25%</th>\n",
       "      <td>0.000000</td>\n",
       "      <td>0.000000</td>\n",
       "      <td>0.000000</td>\n",
       "      <td>0.000000</td>\n",
       "      <td>7.000000</td>\n",
       "      <td>184.137500</td>\n",
       "      <td>0.000000</td>\n",
       "      <td>0.014286</td>\n",
       "      <td>0.000000</td>\n",
       "      <td>0.000000</td>\n",
       "      <td>2.000000</td>\n",
       "      <td>2.000000</td>\n",
       "      <td>1.000000</td>\n",
       "      <td>2.000000</td>\n",
       "    </tr>\n",
       "    <tr>\n",
       "      <th>50%</th>\n",
       "      <td>1.000000</td>\n",
       "      <td>7.500000</td>\n",
       "      <td>0.000000</td>\n",
       "      <td>0.000000</td>\n",
       "      <td>18.000000</td>\n",
       "      <td>598.936905</td>\n",
       "      <td>0.003112</td>\n",
       "      <td>0.025156</td>\n",
       "      <td>0.000000</td>\n",
       "      <td>0.000000</td>\n",
       "      <td>2.000000</td>\n",
       "      <td>2.000000</td>\n",
       "      <td>3.000000</td>\n",
       "      <td>2.000000</td>\n",
       "    </tr>\n",
       "    <tr>\n",
       "      <th>75%</th>\n",
       "      <td>4.000000</td>\n",
       "      <td>93.256250</td>\n",
       "      <td>0.000000</td>\n",
       "      <td>0.000000</td>\n",
       "      <td>38.000000</td>\n",
       "      <td>1464.157214</td>\n",
       "      <td>0.016813</td>\n",
       "      <td>0.050000</td>\n",
       "      <td>0.000000</td>\n",
       "      <td>0.000000</td>\n",
       "      <td>3.000000</td>\n",
       "      <td>2.000000</td>\n",
       "      <td>4.000000</td>\n",
       "      <td>4.000000</td>\n",
       "    </tr>\n",
       "    <tr>\n",
       "      <th>max</th>\n",
       "      <td>27.000000</td>\n",
       "      <td>3398.750000</td>\n",
       "      <td>24.000000</td>\n",
       "      <td>2549.375000</td>\n",
       "      <td>705.000000</td>\n",
       "      <td>63973.522230</td>\n",
       "      <td>0.200000</td>\n",
       "      <td>0.200000</td>\n",
       "      <td>361.763742</td>\n",
       "      <td>1.000000</td>\n",
       "      <td>8.000000</td>\n",
       "      <td>13.000000</td>\n",
       "      <td>9.000000</td>\n",
       "      <td>20.000000</td>\n",
       "    </tr>\n",
       "  </tbody>\n",
       "</table>\n",
       "</div>"
      ],
      "text/plain": [
       "       Administrative  Administrative_Duration  Informational  \\\n",
       "count    12330.000000             12330.000000   12330.000000   \n",
       "mean         2.315166                80.818611       0.503569   \n",
       "std          3.321784               176.779107       1.270156   \n",
       "min          0.000000                 0.000000       0.000000   \n",
       "25%          0.000000                 0.000000       0.000000   \n",
       "50%          1.000000                 7.500000       0.000000   \n",
       "75%          4.000000                93.256250       0.000000   \n",
       "max         27.000000              3398.750000      24.000000   \n",
       "\n",
       "       Informational_Duration  ProductRelated  ProductRelated_Duration  \\\n",
       "count            12330.000000    12330.000000             12330.000000   \n",
       "mean                34.472398       31.731468              1194.746220   \n",
       "std                140.749294       44.475503              1913.669288   \n",
       "min                  0.000000        0.000000                 0.000000   \n",
       "25%                  0.000000        7.000000               184.137500   \n",
       "50%                  0.000000       18.000000               598.936905   \n",
       "75%                  0.000000       38.000000              1464.157214   \n",
       "max               2549.375000      705.000000             63973.522230   \n",
       "\n",
       "        BounceRates     ExitRates    PageValues    SpecialDay  \\\n",
       "count  12330.000000  12330.000000  12330.000000  12330.000000   \n",
       "mean       0.022191      0.043073      5.889258      0.061427   \n",
       "std        0.048488      0.048597     18.568437      0.198917   \n",
       "min        0.000000      0.000000      0.000000      0.000000   \n",
       "25%        0.000000      0.014286      0.000000      0.000000   \n",
       "50%        0.003112      0.025156      0.000000      0.000000   \n",
       "75%        0.016813      0.050000      0.000000      0.000000   \n",
       "max        0.200000      0.200000    361.763742      1.000000   \n",
       "\n",
       "       OperatingSystems       Browser        Region   TrafficType  \n",
       "count      12330.000000  12330.000000  12330.000000  12330.000000  \n",
       "mean           2.124006      2.357097      3.147364      4.069586  \n",
       "std            0.911325      1.717277      2.401591      4.025169  \n",
       "min            1.000000      1.000000      1.000000      1.000000  \n",
       "25%            2.000000      2.000000      1.000000      2.000000  \n",
       "50%            2.000000      2.000000      3.000000      2.000000  \n",
       "75%            3.000000      2.000000      4.000000      4.000000  \n",
       "max            8.000000     13.000000      9.000000     20.000000  "
      ]
     },
     "execution_count": 203,
     "metadata": {},
     "output_type": "execute_result"
    }
   ],
   "source": [
    "data.describe()"
   ]
  },
  {
   "cell_type": "code",
   "execution_count": 204,
   "id": "ed3f0372",
   "metadata": {},
   "outputs": [
    {
     "data": {
      "text/plain": [
       "(12330, 18)"
      ]
     },
     "execution_count": 204,
     "metadata": {},
     "output_type": "execute_result"
    }
   ],
   "source": [
    "data.shape"
   ]
  },
  {
   "cell_type": "markdown",
   "id": "ca6e9133",
   "metadata": {},
   "source": [
    "- The dataset consists of 12330 rows and 18 columns"
   ]
  },
  {
   "cell_type": "code",
   "execution_count": 205,
   "id": "2c2a2a68",
   "metadata": {},
   "outputs": [
    {
     "data": {
      "text/plain": [
       "Administrative               27\n",
       "Administrative_Duration    3335\n",
       "Informational                17\n",
       "Informational_Duration     1258\n",
       "ProductRelated              311\n",
       "ProductRelated_Duration    9551\n",
       "BounceRates                1872\n",
       "ExitRates                  4777\n",
       "PageValues                 2704\n",
       "SpecialDay                    6\n",
       "Month                        10\n",
       "OperatingSystems              8\n",
       "Browser                      13\n",
       "Region                        9\n",
       "TrafficType                  20\n",
       "VisitorType                   3\n",
       "Weekend                       2\n",
       "Revenue                       2\n",
       "dtype: int64"
      ]
     },
     "execution_count": 205,
     "metadata": {},
     "output_type": "execute_result"
    }
   ],
   "source": [
    "data.nunique()"
   ]
  },
  {
   "cell_type": "markdown",
   "id": "4f3e3ef6",
   "metadata": {},
   "source": [
    "#### Data Cleaning\n",
    "\n",
    "- Checking and Replacing Missing Values\n",
    "- Checking and Deleting Duplicates"
   ]
  },
  {
   "cell_type": "code",
   "execution_count": 206,
   "id": "c0b957a1",
   "metadata": {},
   "outputs": [
    {
     "data": {
      "text/plain": [
       "Administrative             0\n",
       "Administrative_Duration    0\n",
       "Informational              0\n",
       "Informational_Duration     0\n",
       "ProductRelated             0\n",
       "ProductRelated_Duration    0\n",
       "BounceRates                0\n",
       "ExitRates                  0\n",
       "PageValues                 0\n",
       "SpecialDay                 0\n",
       "Month                      0\n",
       "OperatingSystems           0\n",
       "Browser                    0\n",
       "Region                     0\n",
       "TrafficType                0\n",
       "VisitorType                0\n",
       "Weekend                    0\n",
       "Revenue                    0\n",
       "dtype: int64"
      ]
     },
     "execution_count": 206,
     "metadata": {},
     "output_type": "execute_result"
    }
   ],
   "source": [
    "# Check for missing values\n",
    "\n",
    "data.isnull().sum()"
   ]
  },
  {
   "cell_type": "markdown",
   "id": "64c0c52a",
   "metadata": {},
   "source": [
    "- There are no missing values in the dataset"
   ]
  },
  {
   "cell_type": "code",
   "execution_count": 207,
   "id": "430eb1d7",
   "metadata": {},
   "outputs": [
    {
     "data": {
      "text/plain": [
       "125"
      ]
     },
     "execution_count": 207,
     "metadata": {},
     "output_type": "execute_result"
    }
   ],
   "source": [
    "# Check for duplicates\n",
    "\n",
    "data.duplicated().sum()"
   ]
  },
  {
   "cell_type": "markdown",
   "id": "e59ad931",
   "metadata": {},
   "source": [
    "- There are 125 duplicate values"
   ]
  },
  {
   "cell_type": "code",
   "execution_count": 208,
   "id": "4056a727",
   "metadata": {},
   "outputs": [],
   "source": [
    "# Deleting duplicates\n",
    "\n",
    "data = data.drop_duplicates()"
   ]
  },
  {
   "cell_type": "code",
   "execution_count": 209,
   "id": "ebe3101c",
   "metadata": {},
   "outputs": [
    {
     "data": {
      "text/plain": [
       "0"
      ]
     },
     "execution_count": 209,
     "metadata": {},
     "output_type": "execute_result"
    }
   ],
   "source": [
    "data.duplicated().sum()"
   ]
  },
  {
   "cell_type": "code",
   "execution_count": 210,
   "id": "c66031f6",
   "metadata": {
    "scrolled": true
   },
   "outputs": [
    {
     "data": {
      "text/plain": [
       "(12205, 18)"
      ]
     },
     "execution_count": 210,
     "metadata": {},
     "output_type": "execute_result"
    }
   ],
   "source": [
    "data.shape"
   ]
  },
  {
   "cell_type": "markdown",
   "id": "32ee32df",
   "metadata": {},
   "source": [
    "### Exploratory Data Analysis"
   ]
  },
  {
   "cell_type": "markdown",
   "id": "604ce582",
   "metadata": {},
   "source": [
    "#### Visitor Type by Month"
   ]
  },
  {
   "cell_type": "code",
   "execution_count": 289,
   "id": "b7d4fe9e",
   "metadata": {},
   "outputs": [
    {
     "data": {
      "image/png": "[encoded data removed]",
      "text/plain": [
       "<Figure size 864x576 with 1 Axes>"
      ]
     },
     "metadata": {
      "needs_background": "light"
     },
     "output_type": "display_data"
    }
   ],
   "source": [
    "Visitor_Month = pd.crosstab(data.Month, data.VisitorType)\n",
    "\n",
    "#plot the data\n",
    "Visitor_Month.plot.bar(figsize=(12,8))\n",
    "\n",
    "plt.title('Visitor Type by Month')\n",
    "plt.show()"
   ]
  },
  {
   "cell_type": "markdown",
   "id": "33b86ca7",
   "metadata": {},
   "source": [
    "- Majority of customers that visited the store are returning visitors, with the highest occuring in February"
   ]
  },
  {
   "cell_type": "markdown",
   "id": "14bb3bd4",
   "metadata": {},
   "source": [
    "#### Month by Revenue"
   ]
  },
  {
   "cell_type": "code",
   "execution_count": 213,
   "id": "ee9cadf9",
   "metadata": {},
   "outputs": [
    {
     "data": {
      "text/plain": [
       "Month\n",
       "Nov     760\n",
       "May     365\n",
       "Dec     216\n",
       "Mar     192\n",
       "Oct     115\n",
       "Sep      86\n",
       "Aug      76\n",
       "Jul      66\n",
       "June     29\n",
       "Feb       3\n",
       "Name: Revenue, dtype: int64"
      ]
     },
     "execution_count": 213,
     "metadata": {},
     "output_type": "execute_result"
    }
   ],
   "source": [
    "Month_Revenue = data.groupby('Month').Revenue.sum().sort_values(ascending=False)\n",
    "Month_Revenue"
   ]
  },
  {
   "cell_type": "code",
   "execution_count": 214,
   "id": "215850e1",
   "metadata": {},
   "outputs": [
    {
     "data": {
      "text/plain": [
       "<BarContainer object of 10 artists>"
      ]
     },
     "execution_count": 214,
     "metadata": {},
     "output_type": "execute_result"
    },
    {
     "data": {
      "image/png": "[encoded data removed]",
      "text/plain": [
       "<Figure size 576x432 with 1 Axes>"
      ]
     },
     "metadata": {
      "needs_background": "light"
     },
     "output_type": "display_data"
    }
   ],
   "source": [
    "plt.figure(figsize=(8,6))\n",
    "plt.bar(Month_Revenue.index, Month_Revenue.values)"
   ]
  },
  {
   "cell_type": "markdown",
   "id": "c8fa3a2e",
   "metadata": {},
   "source": [
    "- The highest revenue was generated in November, this could be as a result of Black Friday Sales"
   ]
  },
  {
   "cell_type": "markdown",
   "id": "1f1ec79b",
   "metadata": {},
   "source": [
    "#### Visitor Type by Revenue"
   ]
  },
  {
   "cell_type": "code",
   "execution_count": 215,
   "id": "3542bdb8",
   "metadata": {},
   "outputs": [
    {
     "data": {
      "text/plain": [
       "VisitorType\n",
       "Returning_Visitor    1470\n",
       "New_Visitor           422\n",
       "Other                  16\n",
       "Name: Revenue, dtype: int64"
      ]
     },
     "execution_count": 215,
     "metadata": {},
     "output_type": "execute_result"
    }
   ],
   "source": [
    "Visitor_Revenue = data.groupby('VisitorType').Revenue.sum().sort_values(ascending=False)\n",
    "Visitor_Revenue"
   ]
  },
  {
   "cell_type": "code",
   "execution_count": 216,
   "id": "677bb1cf",
   "metadata": {},
   "outputs": [
    {
     "data": {
      "text/plain": [
       "<BarContainer object of 3 artists>"
      ]
     },
     "execution_count": 216,
     "metadata": {},
     "output_type": "execute_result"
    },
    {
     "data": {
      "image/png": "[encoded data removed]",
      "text/plain": [
       "<Figure size 576x432 with 1 Axes>"
      ]
     },
     "metadata": {
      "needs_background": "light"
     },
     "output_type": "display_data"
    }
   ],
   "source": [
    "plt.figure(figsize=(8,6))\n",
    "plt.bar(Visitor_Revenue.index, Visitor_Revenue.values)"
   ]
  },
  {
   "cell_type": "markdown",
   "id": "494e2472",
   "metadata": {},
   "source": [
    "- Returning Visitors contribute majorly to the revenue generated by the Online Store"
   ]
  },
  {
   "cell_type": "markdown",
   "id": "cf50852e",
   "metadata": {},
   "source": [
    "#### Product Related Page Views by Month"
   ]
  },
  {
   "cell_type": "code",
   "execution_count": 217,
   "id": "ee0978aa",
   "metadata": {
    "scrolled": true
   },
   "outputs": [
    {
     "data": {
      "text/plain": [
       "Month\n",
       "Nov     138007\n",
       "May      89068\n",
       "Dec      48326\n",
       "Mar      37724\n",
       "Oct      18428\n",
       "Aug      16566\n",
       "Jul      15728\n",
       "Sep      14831\n",
       "June     10384\n",
       "Feb       2055\n",
       "Name: ProductRelated, dtype: int64"
      ]
     },
     "execution_count": 217,
     "metadata": {},
     "output_type": "execute_result"
    }
   ],
   "source": [
    "Product_Month = data.groupby('Month').ProductRelated.sum().sort_values(ascending=False)\n",
    "Product_Month "
   ]
  },
  {
   "cell_type": "code",
   "execution_count": 218,
   "id": "3d434288",
   "metadata": {},
   "outputs": [
    {
     "data": {
      "text/plain": [
       "<BarContainer object of 10 artists>"
      ]
     },
     "execution_count": 218,
     "metadata": {},
     "output_type": "execute_result"
    },
    {
     "data": {
      "image/png": "[encoded data removed]",
      "text/plain": [
       "<Figure size 576x432 with 1 Axes>"
      ]
     },
     "metadata": {
      "needs_background": "light"
     },
     "output_type": "display_data"
    }
   ],
   "source": [
    "plt.figure(figsize=(8,6))\n",
    "plt.bar(Product_Month.index, Product_Month.values)"
   ]
  },
  {
   "cell_type": "markdown",
   "id": "24fe02e6",
   "metadata": {},
   "source": [
    "- The Product Related page recorded the most visits in November"
   ]
  },
  {
   "cell_type": "markdown",
   "id": "5f5ce23c",
   "metadata": {},
   "source": [
    "#### Informational Page Views by Month"
   ]
  },
  {
   "cell_type": "code",
   "execution_count": 219,
   "id": "02b4bf76",
   "metadata": {
    "scrolled": false
   },
   "outputs": [
    {
     "data": {
      "text/plain": [
       "Month\n",
       "Nov     1938\n",
       "May     1426\n",
       "Dec      885\n",
       "Mar      802\n",
       "Oct      268\n",
       "Sep      254\n",
       "Aug      235\n",
       "Jul      223\n",
       "June     162\n",
       "Feb       16\n",
       "Name: Informational, dtype: int64"
      ]
     },
     "execution_count": 219,
     "metadata": {},
     "output_type": "execute_result"
    }
   ],
   "source": [
    "Info_Month = data.groupby('Month').Informational.sum().sort_values(ascending=False)\n",
    "Info_Month "
   ]
  },
  {
   "cell_type": "code",
   "execution_count": 220,
   "id": "87b932e1",
   "metadata": {},
   "outputs": [
    {
     "data": {
      "text/plain": [
       "<BarContainer object of 10 artists>"
      ]
     },
     "execution_count": 220,
     "metadata": {},
     "output_type": "execute_result"
    },
    {
     "data": {
      "image/png": "[encoded data removed]",
      "text/plain": [
       "<Figure size 576x432 with 1 Axes>"
      ]
     },
     "metadata": {
      "needs_background": "light"
     },
     "output_type": "display_data"
    }
   ],
   "source": [
    "plt.figure(figsize=(8,6))\n",
    "plt.bar(Info_Month.index, Info_Month.values)"
   ]
  },
  {
   "cell_type": "markdown",
   "id": "cce5cbc0",
   "metadata": {},
   "source": [
    "- The Informational page recorded the most visits in November"
   ]
  },
  {
   "cell_type": "markdown",
   "id": "f06702ca",
   "metadata": {},
   "source": [
    "#### Administrative Page Views by Month"
   ]
  },
  {
   "cell_type": "code",
   "execution_count": 221,
   "id": "f8b6b375",
   "metadata": {
    "scrolled": false
   },
   "outputs": [
    {
     "data": {
      "text/plain": [
       "Month\n",
       "Nov     7847\n",
       "May     6610\n",
       "Dec     3793\n",
       "Mar     3600\n",
       "Oct     2042\n",
       "Sep     1494\n",
       "Aug     1358\n",
       "Jul     1047\n",
       "June     655\n",
       "Feb      100\n",
       "Name: Administrative, dtype: int64"
      ]
     },
     "execution_count": 221,
     "metadata": {},
     "output_type": "execute_result"
    }
   ],
   "source": [
    "Admin_Month = data.groupby('Month').Administrative.sum().sort_values(ascending=False)\n",
    "Admin_Month"
   ]
  },
  {
   "cell_type": "code",
   "execution_count": 222,
   "id": "7a2bfc26",
   "metadata": {},
   "outputs": [
    {
     "data": {
      "text/plain": [
       "<BarContainer object of 10 artists>"
      ]
     },
     "execution_count": 222,
     "metadata": {},
     "output_type": "execute_result"
    },
    {
     "data": {
      "image/png": "[encoded data removed]",
      "text/plain": [
       "<Figure size 576x432 with 1 Axes>"
      ]
     },
     "metadata": {
      "needs_background": "light"
     },
     "output_type": "display_data"
    }
   ],
   "source": [
    "plt.figure(figsize=(8,6))\n",
    "plt.bar(Admin_Month.index, Admin_Month.values)"
   ]
  },
  {
   "cell_type": "markdown",
   "id": "2e2d7e47",
   "metadata": {},
   "source": [
    "- The Administrative page also recorded the most visits in November"
   ]
  },
  {
   "cell_type": "markdown",
   "id": "8e3b8721",
   "metadata": {},
   "source": [
    "##### Scatter Plot for Product Related and Duration"
   ]
  },
  {
   "cell_type": "code",
   "execution_count": 223,
   "id": "270f85c0",
   "metadata": {
    "scrolled": false
   },
   "outputs": [
    {
     "data": {
      "text/plain": [
       "<AxesSubplot: xlabel='ProductRelated', ylabel='ProductRelated_Duration'>"
      ]
     },
     "execution_count": 223,
     "metadata": {},
     "output_type": "execute_result"
    },
    {
     "data": {
      "image/png": "[encoded data removed]",
      "text/plain": [
       "<Figure size 576x432 with 1 Axes>"
      ]
     },
     "metadata": {
      "needs_background": "light"
     },
     "output_type": "display_data"
    }
   ],
   "source": [
    "plt.figure(figsize=(8,6))\n",
    "sns.scatterplot(data=data, x=\"ProductRelated\", y=\"ProductRelated_Duration\", hue=\"Revenue\")"
   ]
  },
  {
   "cell_type": "markdown",
   "id": "28f11dc0",
   "metadata": {},
   "source": [
    "- Not all customers that visited the product page actually completed the transaction, as most customers left the page without making purchase"
   ]
  },
  {
   "cell_type": "markdown",
   "id": "df226127",
   "metadata": {},
   "source": [
    "##### Bounce Rates and Administrative Duration"
   ]
  },
  {
   "cell_type": "code",
   "execution_count": 224,
   "id": "db4a5d2a",
   "metadata": {},
   "outputs": [
    {
     "data": {
      "text/plain": [
       "<AxesSubplot: xlabel='BounceRates', ylabel='Administrative_Duration'>"
      ]
     },
     "execution_count": 224,
     "metadata": {},
     "output_type": "execute_result"
    },
    {
     "data": {
      "image/png": "[encoded data removed]",
      "text/plain": [
       "<Figure size 576x432 with 1 Axes>"
      ]
     },
     "metadata": {
      "needs_background": "light"
     },
     "output_type": "display_data"
    }
   ],
   "source": [
    "plt.figure(figsize=(8,6))\n",
    "sns.scatterplot(data=data, x=\"BounceRates\", y=\"Administrative_Duration\", hue=\"Weekend\")"
   ]
  },
  {
   "cell_type": "markdown",
   "id": "62cde7d9",
   "metadata": {},
   "source": [
    "- There is a higher percentage of visitors who entered the Administrative Page and exited, without triggering any additional tasks on weekends."
   ]
  },
  {
   "cell_type": "markdown",
   "id": "de2a172c",
   "metadata": {},
   "source": [
    "##### Thus, it can be concluded that the online store recorded the highest visits to its website in November and also generated the highest sales same month; this could be as a result of the Black Friday sales, where price of products are heavily discounted. "
   ]
  },
  {
   "cell_type": "markdown",
   "id": "38f357c5",
   "metadata": {},
   "source": [
    "### Modelling"
   ]
  },
  {
   "cell_type": "markdown",
   "id": "8e2c1d6a",
   "metadata": {},
   "source": [
    "#### Data Manipulation - Categorical to Numerical\n",
    "\n",
    "As machine learning models and preditive analysis cannot be built with data in raw form without being skewed, the label encoder will be used to convert categorical variables to numerical"
   ]
  },
  {
   "cell_type": "code",
   "execution_count": 225,
   "id": "36751311",
   "metadata": {},
   "outputs": [
    {
     "name": "stdout",
     "output_type": "stream",
     "text": [
      "<class 'pandas.core.frame.DataFrame'>\n",
      "Int64Index: 12205 entries, 0 to 12329\n",
      "Data columns (total 18 columns):\n",
      " #   Column                   Non-Null Count  Dtype  \n",
      "---  ------                   --------------  -----  \n",
      " 0   Administrative           12205 non-null  int64  \n",
      " 1   Administrative_Duration  12205 non-null  float64\n",
      " 2   Informational            12205 non-null  int64  \n",
      " 3   Informational_Duration   12205 non-null  float64\n",
      " 4   ProductRelated           12205 non-null  int64  \n",
      " 5   ProductRelated_Duration  12205 non-null  float64\n",
      " 6   BounceRates              12205 non-null  float64\n",
      " 7   ExitRates                12205 non-null  float64\n",
      " 8   PageValues               12205 non-null  float64\n",
      " 9   SpecialDay               12205 non-null  float64\n",
      " 10  Month                    12205 non-null  object \n",
      " 11  OperatingSystems         12205 non-null  int64  \n",
      " 12  Browser                  12205 non-null  int64  \n",
      " 13  Region                   12205 non-null  int64  \n",
      " 14  TrafficType              12205 non-null  int64  \n",
      " 15  VisitorType              12205 non-null  object \n",
      " 16  Weekend                  12205 non-null  bool   \n",
      " 17  Revenue                  12205 non-null  bool   \n",
      "dtypes: bool(2), float64(7), int64(7), object(2)\n",
      "memory usage: 1.6+ MB\n"
     ]
    }
   ],
   "source": [
    "data.info()"
   ]
  },
  {
   "cell_type": "code",
   "execution_count": 226,
   "id": "1929a903",
   "metadata": {},
   "outputs": [
    {
     "data": {
      "text/html": [
       "<div>\n",
       "<style scoped>\n",
       "    .dataframe tbody tr th:only-of-type {\n",
       "        vertical-align: middle;\n",
       "    }\n",
       "\n",
       "    .dataframe tbody tr th {\n",
       "        vertical-align: top;\n",
       "    }\n",
       "\n",
       "    .dataframe thead th {\n",
       "        text-align: right;\n",
       "    }\n",
       "</style>\n",
       "<table border=\"1\" class=\"dataframe\">\n",
       "  <thead>\n",
       "    <tr style=\"text-align: right;\">\n",
       "      <th></th>\n",
       "      <th>Administrative</th>\n",
       "      <th>Administrative_Duration</th>\n",
       "      <th>Informational</th>\n",
       "      <th>Informational_Duration</th>\n",
       "      <th>ProductRelated</th>\n",
       "      <th>ProductRelated_Duration</th>\n",
       "      <th>BounceRates</th>\n",
       "      <th>ExitRates</th>\n",
       "      <th>PageValues</th>\n",
       "      <th>SpecialDay</th>\n",
       "      <th>Month</th>\n",
       "      <th>OperatingSystems</th>\n",
       "      <th>Browser</th>\n",
       "      <th>Region</th>\n",
       "      <th>TrafficType</th>\n",
       "      <th>VisitorType</th>\n",
       "      <th>Weekend</th>\n",
       "      <th>Revenue</th>\n",
       "    </tr>\n",
       "  </thead>\n",
       "  <tbody>\n",
       "    <tr>\n",
       "      <th>0</th>\n",
       "      <td>0</td>\n",
       "      <td>0.0</td>\n",
       "      <td>0</td>\n",
       "      <td>0.0</td>\n",
       "      <td>1</td>\n",
       "      <td>0.000000</td>\n",
       "      <td>0.20</td>\n",
       "      <td>0.20</td>\n",
       "      <td>0.0</td>\n",
       "      <td>0.0</td>\n",
       "      <td>2</td>\n",
       "      <td>1</td>\n",
       "      <td>1</td>\n",
       "      <td>1</td>\n",
       "      <td>1</td>\n",
       "      <td>2</td>\n",
       "      <td>0</td>\n",
       "      <td>0</td>\n",
       "    </tr>\n",
       "    <tr>\n",
       "      <th>1</th>\n",
       "      <td>0</td>\n",
       "      <td>0.0</td>\n",
       "      <td>0</td>\n",
       "      <td>0.0</td>\n",
       "      <td>2</td>\n",
       "      <td>64.000000</td>\n",
       "      <td>0.00</td>\n",
       "      <td>0.10</td>\n",
       "      <td>0.0</td>\n",
       "      <td>0.0</td>\n",
       "      <td>2</td>\n",
       "      <td>2</td>\n",
       "      <td>2</td>\n",
       "      <td>1</td>\n",
       "      <td>2</td>\n",
       "      <td>2</td>\n",
       "      <td>0</td>\n",
       "      <td>0</td>\n",
       "    </tr>\n",
       "    <tr>\n",
       "      <th>2</th>\n",
       "      <td>0</td>\n",
       "      <td>0.0</td>\n",
       "      <td>0</td>\n",
       "      <td>0.0</td>\n",
       "      <td>1</td>\n",
       "      <td>0.000000</td>\n",
       "      <td>0.20</td>\n",
       "      <td>0.20</td>\n",
       "      <td>0.0</td>\n",
       "      <td>0.0</td>\n",
       "      <td>2</td>\n",
       "      <td>4</td>\n",
       "      <td>1</td>\n",
       "      <td>9</td>\n",
       "      <td>3</td>\n",
       "      <td>2</td>\n",
       "      <td>0</td>\n",
       "      <td>0</td>\n",
       "    </tr>\n",
       "    <tr>\n",
       "      <th>3</th>\n",
       "      <td>0</td>\n",
       "      <td>0.0</td>\n",
       "      <td>0</td>\n",
       "      <td>0.0</td>\n",
       "      <td>2</td>\n",
       "      <td>2.666667</td>\n",
       "      <td>0.05</td>\n",
       "      <td>0.14</td>\n",
       "      <td>0.0</td>\n",
       "      <td>0.0</td>\n",
       "      <td>2</td>\n",
       "      <td>3</td>\n",
       "      <td>2</td>\n",
       "      <td>2</td>\n",
       "      <td>4</td>\n",
       "      <td>2</td>\n",
       "      <td>0</td>\n",
       "      <td>0</td>\n",
       "    </tr>\n",
       "    <tr>\n",
       "      <th>4</th>\n",
       "      <td>0</td>\n",
       "      <td>0.0</td>\n",
       "      <td>0</td>\n",
       "      <td>0.0</td>\n",
       "      <td>10</td>\n",
       "      <td>627.500000</td>\n",
       "      <td>0.02</td>\n",
       "      <td>0.05</td>\n",
       "      <td>0.0</td>\n",
       "      <td>0.0</td>\n",
       "      <td>2</td>\n",
       "      <td>3</td>\n",
       "      <td>3</td>\n",
       "      <td>1</td>\n",
       "      <td>4</td>\n",
       "      <td>2</td>\n",
       "      <td>1</td>\n",
       "      <td>0</td>\n",
       "    </tr>\n",
       "  </tbody>\n",
       "</table>\n",
       "</div>"
      ],
      "text/plain": [
       "   Administrative  Administrative_Duration  Informational  \\\n",
       "0               0                      0.0              0   \n",
       "1               0                      0.0              0   \n",
       "2               0                      0.0              0   \n",
       "3               0                      0.0              0   \n",
       "4               0                      0.0              0   \n",
       "\n",
       "   Informational_Duration  ProductRelated  ProductRelated_Duration  \\\n",
       "0                     0.0               1                 0.000000   \n",
       "1                     0.0               2                64.000000   \n",
       "2                     0.0               1                 0.000000   \n",
       "3                     0.0               2                 2.666667   \n",
       "4                     0.0              10               627.500000   \n",
       "\n",
       "   BounceRates  ExitRates  PageValues  SpecialDay  Month  OperatingSystems  \\\n",
       "0         0.20       0.20         0.0         0.0      2                 1   \n",
       "1         0.00       0.10         0.0         0.0      2                 2   \n",
       "2         0.20       0.20         0.0         0.0      2                 4   \n",
       "3         0.05       0.14         0.0         0.0      2                 3   \n",
       "4         0.02       0.05         0.0         0.0      2                 3   \n",
       "\n",
       "   Browser  Region  TrafficType  VisitorType  Weekend  Revenue  \n",
       "0        1       1            1            2        0        0  \n",
       "1        2       1            2            2        0        0  \n",
       "2        1       9            3            2        0        0  \n",
       "3        2       2            4            2        0        0  \n",
       "4        3       1            4            2        1        0  "
      ]
     },
     "execution_count": 226,
     "metadata": {},
     "output_type": "execute_result"
    }
   ],
   "source": [
    "#Use Label Encoder to convert categorical variables to numerical\n",
    "\n",
    "from sklearn.preprocessing import LabelEncoder\n",
    "\n",
    "data_sklearn = data\n",
    "\n",
    "lb_make = LabelEncoder()\n",
    "data_sklearn['Month'] = lb_make.fit_transform(data['Month'])\n",
    "data_sklearn['VisitorType'] = lb_make.fit_transform(data['VisitorType'])\n",
    "data_sklearn['Weekend'] = lb_make.fit_transform(data['Weekend'])\n",
    "data_sklearn['Revenue'] = lb_make.fit_transform(data['Revenue'])\n",
    "\n",
    "\n",
    "data_sklearn.head()"
   ]
  },
  {
   "cell_type": "markdown",
   "id": "448f78d8",
   "metadata": {},
   "source": [
    "#### Normalzing the Dataset\n",
    "\n",
    "Machine learning algorithms tend to perform better or converge faster when the different features (variables) are on a smaller scale. Therefore it is common practice to normalize the data before training machine learning models on it.Normalization also makes the training process less sensitive to the scale of the features. This results in getting better coefficients after training."
   ]
  },
  {
   "cell_type": "code",
   "execution_count": 227,
   "id": "91b84dd7",
   "metadata": {},
   "outputs": [
    {
     "data": {
      "text/html": [
       "<div>\n",
       "<style scoped>\n",
       "    .dataframe tbody tr th:only-of-type {\n",
       "        vertical-align: middle;\n",
       "    }\n",
       "\n",
       "    .dataframe tbody tr th {\n",
       "        vertical-align: top;\n",
       "    }\n",
       "\n",
       "    .dataframe thead th {\n",
       "        text-align: right;\n",
       "    }\n",
       "</style>\n",
       "<table border=\"1\" class=\"dataframe\">\n",
       "  <thead>\n",
       "    <tr style=\"text-align: right;\">\n",
       "      <th></th>\n",
       "      <th>Administrative</th>\n",
       "      <th>Administrative_Duration</th>\n",
       "      <th>Informational</th>\n",
       "      <th>Informational_Duration</th>\n",
       "      <th>ProductRelated</th>\n",
       "      <th>ProductRelated_Duration</th>\n",
       "      <th>BounceRates</th>\n",
       "      <th>ExitRates</th>\n",
       "      <th>PageValues</th>\n",
       "      <th>SpecialDay</th>\n",
       "      <th>Month</th>\n",
       "      <th>OperatingSystems</th>\n",
       "      <th>Browser</th>\n",
       "      <th>Region</th>\n",
       "      <th>TrafficType</th>\n",
       "      <th>VisitorType</th>\n",
       "      <th>Weekend</th>\n",
       "      <th>Revenue</th>\n",
       "    </tr>\n",
       "  </thead>\n",
       "  <tbody>\n",
       "    <tr>\n",
       "      <th>0</th>\n",
       "      <td>0.0</td>\n",
       "      <td>0.0</td>\n",
       "      <td>0.0</td>\n",
       "      <td>0.0</td>\n",
       "      <td>0.001418</td>\n",
       "      <td>0.000000</td>\n",
       "      <td>1.00</td>\n",
       "      <td>1.00</td>\n",
       "      <td>0.0</td>\n",
       "      <td>0.0</td>\n",
       "      <td>0.222222</td>\n",
       "      <td>0.000000</td>\n",
       "      <td>0.000000</td>\n",
       "      <td>0.000</td>\n",
       "      <td>0.000000</td>\n",
       "      <td>1.0</td>\n",
       "      <td>0.0</td>\n",
       "      <td>0.0</td>\n",
       "    </tr>\n",
       "    <tr>\n",
       "      <th>1</th>\n",
       "      <td>0.0</td>\n",
       "      <td>0.0</td>\n",
       "      <td>0.0</td>\n",
       "      <td>0.0</td>\n",
       "      <td>0.002837</td>\n",
       "      <td>0.001000</td>\n",
       "      <td>0.00</td>\n",
       "      <td>0.50</td>\n",
       "      <td>0.0</td>\n",
       "      <td>0.0</td>\n",
       "      <td>0.222222</td>\n",
       "      <td>0.142857</td>\n",
       "      <td>0.083333</td>\n",
       "      <td>0.000</td>\n",
       "      <td>0.052632</td>\n",
       "      <td>1.0</td>\n",
       "      <td>0.0</td>\n",
       "      <td>0.0</td>\n",
       "    </tr>\n",
       "    <tr>\n",
       "      <th>2</th>\n",
       "      <td>0.0</td>\n",
       "      <td>0.0</td>\n",
       "      <td>0.0</td>\n",
       "      <td>0.0</td>\n",
       "      <td>0.001418</td>\n",
       "      <td>0.000000</td>\n",
       "      <td>1.00</td>\n",
       "      <td>1.00</td>\n",
       "      <td>0.0</td>\n",
       "      <td>0.0</td>\n",
       "      <td>0.222222</td>\n",
       "      <td>0.428571</td>\n",
       "      <td>0.000000</td>\n",
       "      <td>1.000</td>\n",
       "      <td>0.105263</td>\n",
       "      <td>1.0</td>\n",
       "      <td>0.0</td>\n",
       "      <td>0.0</td>\n",
       "    </tr>\n",
       "    <tr>\n",
       "      <th>3</th>\n",
       "      <td>0.0</td>\n",
       "      <td>0.0</td>\n",
       "      <td>0.0</td>\n",
       "      <td>0.0</td>\n",
       "      <td>0.002837</td>\n",
       "      <td>0.000042</td>\n",
       "      <td>0.25</td>\n",
       "      <td>0.70</td>\n",
       "      <td>0.0</td>\n",
       "      <td>0.0</td>\n",
       "      <td>0.222222</td>\n",
       "      <td>0.285714</td>\n",
       "      <td>0.083333</td>\n",
       "      <td>0.125</td>\n",
       "      <td>0.157895</td>\n",
       "      <td>1.0</td>\n",
       "      <td>0.0</td>\n",
       "      <td>0.0</td>\n",
       "    </tr>\n",
       "    <tr>\n",
       "      <th>4</th>\n",
       "      <td>0.0</td>\n",
       "      <td>0.0</td>\n",
       "      <td>0.0</td>\n",
       "      <td>0.0</td>\n",
       "      <td>0.014184</td>\n",
       "      <td>0.009809</td>\n",
       "      <td>0.10</td>\n",
       "      <td>0.25</td>\n",
       "      <td>0.0</td>\n",
       "      <td>0.0</td>\n",
       "      <td>0.222222</td>\n",
       "      <td>0.285714</td>\n",
       "      <td>0.166667</td>\n",
       "      <td>0.000</td>\n",
       "      <td>0.157895</td>\n",
       "      <td>1.0</td>\n",
       "      <td>1.0</td>\n",
       "      <td>0.0</td>\n",
       "    </tr>\n",
       "  </tbody>\n",
       "</table>\n",
       "</div>"
      ],
      "text/plain": [
       "   Administrative  Administrative_Duration  Informational  \\\n",
       "0             0.0                      0.0            0.0   \n",
       "1             0.0                      0.0            0.0   \n",
       "2             0.0                      0.0            0.0   \n",
       "3             0.0                      0.0            0.0   \n",
       "4             0.0                      0.0            0.0   \n",
       "\n",
       "   Informational_Duration  ProductRelated  ProductRelated_Duration  \\\n",
       "0                     0.0        0.001418                 0.000000   \n",
       "1                     0.0        0.002837                 0.001000   \n",
       "2                     0.0        0.001418                 0.000000   \n",
       "3                     0.0        0.002837                 0.000042   \n",
       "4                     0.0        0.014184                 0.009809   \n",
       "\n",
       "   BounceRates  ExitRates  PageValues  SpecialDay     Month  OperatingSystems  \\\n",
       "0         1.00       1.00         0.0         0.0  0.222222          0.000000   \n",
       "1         0.00       0.50         0.0         0.0  0.222222          0.142857   \n",
       "2         1.00       1.00         0.0         0.0  0.222222          0.428571   \n",
       "3         0.25       0.70         0.0         0.0  0.222222          0.285714   \n",
       "4         0.10       0.25         0.0         0.0  0.222222          0.285714   \n",
       "\n",
       "    Browser  Region  TrafficType  VisitorType  Weekend  Revenue  \n",
       "0  0.000000   0.000     0.000000          1.0      0.0      0.0  \n",
       "1  0.083333   0.000     0.052632          1.0      0.0      0.0  \n",
       "2  0.000000   1.000     0.105263          1.0      0.0      0.0  \n",
       "3  0.083333   0.125     0.157895          1.0      0.0      0.0  \n",
       "4  0.166667   0.000     0.157895          1.0      1.0      0.0  "
      ]
     },
     "execution_count": 227,
     "metadata": {},
     "output_type": "execute_result"
    }
   ],
   "source": [
    "scaler = preprocessing.MinMaxScaler()\n",
    "names = data_sklearn.columns\n",
    "d = scaler.fit_transform(data_sklearn)\n",
    "scaled_df = pd.DataFrame(d, columns=names)\n",
    "scaled_df.head()"
   ]
  },
  {
   "cell_type": "markdown",
   "id": "b083f7e2",
   "metadata": {},
   "source": [
    "#### Data Correlation\n",
    "\n",
    "- Correlation is a statistical metric that reflects how tightly two variables are related linearly"
   ]
  },
  {
   "cell_type": "code",
   "execution_count": 228,
   "id": "176f24ae",
   "metadata": {
    "scrolled": false
   },
   "outputs": [
    {
     "data": {
      "text/html": [
       "<div>\n",
       "<style scoped>\n",
       "    .dataframe tbody tr th:only-of-type {\n",
       "        vertical-align: middle;\n",
       "    }\n",
       "\n",
       "    .dataframe tbody tr th {\n",
       "        vertical-align: top;\n",
       "    }\n",
       "\n",
       "    .dataframe thead th {\n",
       "        text-align: right;\n",
       "    }\n",
       "</style>\n",
       "<table border=\"1\" class=\"dataframe\">\n",
       "  <thead>\n",
       "    <tr style=\"text-align: right;\">\n",
       "      <th></th>\n",
       "      <th>Administrative</th>\n",
       "      <th>Administrative_Duration</th>\n",
       "      <th>Informational</th>\n",
       "      <th>Informational_Duration</th>\n",
       "      <th>ProductRelated</th>\n",
       "      <th>ProductRelated_Duration</th>\n",
       "      <th>BounceRates</th>\n",
       "      <th>ExitRates</th>\n",
       "      <th>PageValues</th>\n",
       "      <th>SpecialDay</th>\n",
       "      <th>Month</th>\n",
       "      <th>OperatingSystems</th>\n",
       "      <th>Browser</th>\n",
       "      <th>Region</th>\n",
       "      <th>TrafficType</th>\n",
       "      <th>VisitorType</th>\n",
       "      <th>Weekend</th>\n",
       "      <th>Revenue</th>\n",
       "    </tr>\n",
       "  </thead>\n",
       "  <tbody>\n",
       "    <tr>\n",
       "      <th>Administrative</th>\n",
       "      <td>1.000000</td>\n",
       "      <td>0.600457</td>\n",
       "      <td>0.375256</td>\n",
       "      <td>0.254813</td>\n",
       "      <td>0.428305</td>\n",
       "      <td>0.371146</td>\n",
       "      <td>-0.213096</td>\n",
       "      <td>-0.311255</td>\n",
       "      <td>0.097017</td>\n",
       "      <td>-0.096951</td>\n",
       "      <td>0.047651</td>\n",
       "      <td>-0.006586</td>\n",
       "      <td>-0.025622</td>\n",
       "      <td>-0.007262</td>\n",
       "      <td>-0.034643</td>\n",
       "      <td>-0.023492</td>\n",
       "      <td>0.023825</td>\n",
       "      <td>0.136330</td>\n",
       "    </tr>\n",
       "    <tr>\n",
       "      <th>Administrative_Duration</th>\n",
       "      <td>0.600457</td>\n",
       "      <td>1.000000</td>\n",
       "      <td>0.301419</td>\n",
       "      <td>0.237211</td>\n",
       "      <td>0.286863</td>\n",
       "      <td>0.353583</td>\n",
       "      <td>-0.136913</td>\n",
       "      <td>-0.201971</td>\n",
       "      <td>0.066228</td>\n",
       "      <td>-0.074666</td>\n",
       "      <td>0.028408</td>\n",
       "      <td>-0.007529</td>\n",
       "      <td>-0.015742</td>\n",
       "      <td>-0.006729</td>\n",
       "      <td>-0.014991</td>\n",
       "      <td>-0.022407</td>\n",
       "      <td>0.013259</td>\n",
       "      <td>0.091768</td>\n",
       "    </tr>\n",
       "    <tr>\n",
       "      <th>Informational</th>\n",
       "      <td>0.375256</td>\n",
       "      <td>0.301419</td>\n",
       "      <td>1.000000</td>\n",
       "      <td>0.618648</td>\n",
       "      <td>0.372572</td>\n",
       "      <td>0.386052</td>\n",
       "      <td>-0.109095</td>\n",
       "      <td>-0.159429</td>\n",
       "      <td>0.047406</td>\n",
       "      <td>-0.049350</td>\n",
       "      <td>0.019146</td>\n",
       "      <td>-0.009721</td>\n",
       "      <td>-0.038787</td>\n",
       "      <td>-0.030317</td>\n",
       "      <td>-0.035197</td>\n",
       "      <td>0.057319</td>\n",
       "      <td>0.034359</td>\n",
       "      <td>0.093626</td>\n",
       "    </tr>\n",
       "    <tr>\n",
       "      <th>Informational_Duration</th>\n",
       "      <td>0.254813</td>\n",
       "      <td>0.237211</td>\n",
       "      <td>0.618648</td>\n",
       "      <td>1.000000</td>\n",
       "      <td>0.279082</td>\n",
       "      <td>0.346596</td>\n",
       "      <td>-0.069878</td>\n",
       "      <td>-0.102852</td>\n",
       "      <td>0.030090</td>\n",
       "      <td>-0.031261</td>\n",
       "      <td>0.005589</td>\n",
       "      <td>-0.009734</td>\n",
       "      <td>-0.019573</td>\n",
       "      <td>-0.027891</td>\n",
       "      <td>-0.025126</td>\n",
       "      <td>0.045596</td>\n",
       "      <td>0.023193</td>\n",
       "      <td>0.069358</td>\n",
       "    </tr>\n",
       "    <tr>\n",
       "      <th>ProductRelated</th>\n",
       "      <td>0.428305</td>\n",
       "      <td>0.286863</td>\n",
       "      <td>0.372572</td>\n",
       "      <td>0.279082</td>\n",
       "      <td>1.000000</td>\n",
       "      <td>0.860330</td>\n",
       "      <td>-0.192884</td>\n",
       "      <td>-0.286082</td>\n",
       "      <td>0.054201</td>\n",
       "      <td>-0.025839</td>\n",
       "      <td>0.069523</td>\n",
       "      <td>0.004194</td>\n",
       "      <td>-0.013586</td>\n",
       "      <td>-0.040108</td>\n",
       "      <td>-0.044223</td>\n",
       "      <td>0.129521</td>\n",
       "      <td>0.013477</td>\n",
       "      <td>0.156042</td>\n",
       "    </tr>\n",
       "    <tr>\n",
       "      <th>ProductRelated_Duration</th>\n",
       "      <td>0.371146</td>\n",
       "      <td>0.353583</td>\n",
       "      <td>0.386052</td>\n",
       "      <td>0.346596</td>\n",
       "      <td>0.860330</td>\n",
       "      <td>1.000000</td>\n",
       "      <td>-0.173829</td>\n",
       "      <td>-0.245265</td>\n",
       "      <td>0.050923</td>\n",
       "      <td>-0.038122</td>\n",
       "      <td>0.060447</td>\n",
       "      <td>0.002870</td>\n",
       "      <td>-0.007724</td>\n",
       "      <td>-0.034869</td>\n",
       "      <td>-0.037390</td>\n",
       "      <td>0.121887</td>\n",
       "      <td>0.004903</td>\n",
       "      <td>0.150077</td>\n",
       "    </tr>\n",
       "    <tr>\n",
       "      <th>BounceRates</th>\n",
       "      <td>-0.213096</td>\n",
       "      <td>-0.136913</td>\n",
       "      <td>-0.109095</td>\n",
       "      <td>-0.069878</td>\n",
       "      <td>-0.192884</td>\n",
       "      <td>-0.173829</td>\n",
       "      <td>1.000000</td>\n",
       "      <td>0.902144</td>\n",
       "      <td>-0.115799</td>\n",
       "      <td>0.088626</td>\n",
       "      <td>-0.018898</td>\n",
       "      <td>0.026811</td>\n",
       "      <td>-0.015501</td>\n",
       "      <td>0.002787</td>\n",
       "      <td>0.089184</td>\n",
       "      <td>0.132442</td>\n",
       "      <td>-0.034808</td>\n",
       "      <td>-0.145091</td>\n",
       "    </tr>\n",
       "    <tr>\n",
       "      <th>ExitRates</th>\n",
       "      <td>-0.311255</td>\n",
       "      <td>-0.201971</td>\n",
       "      <td>-0.159429</td>\n",
       "      <td>-0.102852</td>\n",
       "      <td>-0.286082</td>\n",
       "      <td>-0.245265</td>\n",
       "      <td>0.902144</td>\n",
       "      <td>1.000000</td>\n",
       "      <td>-0.173627</td>\n",
       "      <td>0.117176</td>\n",
       "      <td>-0.035594</td>\n",
       "      <td>0.016345</td>\n",
       "      <td>-0.003323</td>\n",
       "      <td>-0.000987</td>\n",
       "      <td>0.087478</td>\n",
       "      <td>0.177935</td>\n",
       "      <td>-0.053061</td>\n",
       "      <td>-0.204320</td>\n",
       "    </tr>\n",
       "    <tr>\n",
       "      <th>PageValues</th>\n",
       "      <td>0.097017</td>\n",
       "      <td>0.066228</td>\n",
       "      <td>0.047406</td>\n",
       "      <td>0.030090</td>\n",
       "      <td>0.054201</td>\n",
       "      <td>0.050923</td>\n",
       "      <td>-0.115799</td>\n",
       "      <td>-0.173627</td>\n",
       "      <td>1.000000</td>\n",
       "      <td>-0.064481</td>\n",
       "      <td>0.021322</td>\n",
       "      <td>0.018632</td>\n",
       "      <td>0.045908</td>\n",
       "      <td>0.010588</td>\n",
       "      <td>0.012286</td>\n",
       "      <td>-0.110323</td>\n",
       "      <td>0.010801</td>\n",
       "      <td>0.491894</td>\n",
       "    </tr>\n",
       "    <tr>\n",
       "      <th>SpecialDay</th>\n",
       "      <td>-0.096951</td>\n",
       "      <td>-0.074666</td>\n",
       "      <td>-0.049350</td>\n",
       "      <td>-0.031261</td>\n",
       "      <td>-0.025839</td>\n",
       "      <td>-0.038122</td>\n",
       "      <td>0.088626</td>\n",
       "      <td>0.117176</td>\n",
       "      <td>-0.064481</td>\n",
       "      <td>1.000000</td>\n",
       "      <td>0.078991</td>\n",
       "      <td>0.012806</td>\n",
       "      <td>0.003528</td>\n",
       "      <td>-0.016450</td>\n",
       "      <td>0.052856</td>\n",
       "      <td>0.086615</td>\n",
       "      <td>-0.017723</td>\n",
       "      <td>-0.083601</td>\n",
       "    </tr>\n",
       "    <tr>\n",
       "      <th>Month</th>\n",
       "      <td>0.047651</td>\n",
       "      <td>0.028408</td>\n",
       "      <td>0.019146</td>\n",
       "      <td>0.005589</td>\n",
       "      <td>0.069523</td>\n",
       "      <td>0.060447</td>\n",
       "      <td>-0.018898</td>\n",
       "      <td>-0.035594</td>\n",
       "      <td>0.021322</td>\n",
       "      <td>0.078991</td>\n",
       "      <td>1.000000</td>\n",
       "      <td>-0.026862</td>\n",
       "      <td>-0.042603</td>\n",
       "      <td>-0.031269</td>\n",
       "      <td>0.044678</td>\n",
       "      <td>0.026063</td>\n",
       "      <td>0.030034</td>\n",
       "      <td>0.079769</td>\n",
       "    </tr>\n",
       "    <tr>\n",
       "      <th>OperatingSystems</th>\n",
       "      <td>-0.006586</td>\n",
       "      <td>-0.007529</td>\n",
       "      <td>-0.009721</td>\n",
       "      <td>-0.009734</td>\n",
       "      <td>0.004194</td>\n",
       "      <td>0.002870</td>\n",
       "      <td>0.026811</td>\n",
       "      <td>0.016345</td>\n",
       "      <td>0.018632</td>\n",
       "      <td>0.012806</td>\n",
       "      <td>-0.026862</td>\n",
       "      <td>1.000000</td>\n",
       "      <td>0.212335</td>\n",
       "      <td>0.071864</td>\n",
       "      <td>0.183074</td>\n",
       "      <td>0.004384</td>\n",
       "      <td>0.001894</td>\n",
       "      <td>-0.014927</td>\n",
       "    </tr>\n",
       "    <tr>\n",
       "      <th>Browser</th>\n",
       "      <td>-0.025622</td>\n",
       "      <td>-0.015742</td>\n",
       "      <td>-0.038787</td>\n",
       "      <td>-0.019573</td>\n",
       "      <td>-0.013586</td>\n",
       "      <td>-0.007724</td>\n",
       "      <td>-0.015501</td>\n",
       "      <td>-0.003323</td>\n",
       "      <td>0.045908</td>\n",
       "      <td>0.003528</td>\n",
       "      <td>-0.042603</td>\n",
       "      <td>0.212335</td>\n",
       "      <td>1.000000</td>\n",
       "      <td>0.092038</td>\n",
       "      <td>0.102868</td>\n",
       "      <td>-0.019175</td>\n",
       "      <td>-0.039704</td>\n",
       "      <td>0.024052</td>\n",
       "    </tr>\n",
       "    <tr>\n",
       "      <th>Region</th>\n",
       "      <td>-0.007262</td>\n",
       "      <td>-0.006729</td>\n",
       "      <td>-0.030317</td>\n",
       "      <td>-0.027891</td>\n",
       "      <td>-0.040108</td>\n",
       "      <td>-0.034869</td>\n",
       "      <td>0.002787</td>\n",
       "      <td>-0.000987</td>\n",
       "      <td>0.010588</td>\n",
       "      <td>-0.016450</td>\n",
       "      <td>-0.031269</td>\n",
       "      <td>0.071864</td>\n",
       "      <td>0.092038</td>\n",
       "      <td>1.000000</td>\n",
       "      <td>0.042873</td>\n",
       "      <td>-0.034457</td>\n",
       "      <td>-0.001553</td>\n",
       "      <td>-0.012725</td>\n",
       "    </tr>\n",
       "    <tr>\n",
       "      <th>TrafficType</th>\n",
       "      <td>-0.034643</td>\n",
       "      <td>-0.014991</td>\n",
       "      <td>-0.035197</td>\n",
       "      <td>-0.025126</td>\n",
       "      <td>-0.044223</td>\n",
       "      <td>-0.037390</td>\n",
       "      <td>0.089184</td>\n",
       "      <td>0.087478</td>\n",
       "      <td>0.012286</td>\n",
       "      <td>0.052856</td>\n",
       "      <td>0.044678</td>\n",
       "      <td>0.183074</td>\n",
       "      <td>0.102868</td>\n",
       "      <td>0.042873</td>\n",
       "      <td>1.000000</td>\n",
       "      <td>-0.000670</td>\n",
       "      <td>-0.002133</td>\n",
       "      <td>-0.005618</td>\n",
       "    </tr>\n",
       "    <tr>\n",
       "      <th>VisitorType</th>\n",
       "      <td>-0.023492</td>\n",
       "      <td>-0.022407</td>\n",
       "      <td>0.057319</td>\n",
       "      <td>0.045596</td>\n",
       "      <td>0.129521</td>\n",
       "      <td>0.121887</td>\n",
       "      <td>0.132442</td>\n",
       "      <td>0.177935</td>\n",
       "      <td>-0.110323</td>\n",
       "      <td>0.086615</td>\n",
       "      <td>0.026063</td>\n",
       "      <td>0.004384</td>\n",
       "      <td>-0.019175</td>\n",
       "      <td>-0.034457</td>\n",
       "      <td>-0.000670</td>\n",
       "      <td>1.000000</td>\n",
       "      <td>-0.042648</td>\n",
       "      <td>-0.103469</td>\n",
       "    </tr>\n",
       "    <tr>\n",
       "      <th>Weekend</th>\n",
       "      <td>0.023825</td>\n",
       "      <td>0.013259</td>\n",
       "      <td>0.034359</td>\n",
       "      <td>0.023193</td>\n",
       "      <td>0.013477</td>\n",
       "      <td>0.004903</td>\n",
       "      <td>-0.034808</td>\n",
       "      <td>-0.053061</td>\n",
       "      <td>0.010801</td>\n",
       "      <td>-0.017723</td>\n",
       "      <td>0.030034</td>\n",
       "      <td>0.001894</td>\n",
       "      <td>-0.039704</td>\n",
       "      <td>-0.001553</td>\n",
       "      <td>-0.002133</td>\n",
       "      <td>-0.042648</td>\n",
       "      <td>1.000000</td>\n",
       "      <td>0.027729</td>\n",
       "    </tr>\n",
       "    <tr>\n",
       "      <th>Revenue</th>\n",
       "      <td>0.136330</td>\n",
       "      <td>0.091768</td>\n",
       "      <td>0.093626</td>\n",
       "      <td>0.069358</td>\n",
       "      <td>0.156042</td>\n",
       "      <td>0.150077</td>\n",
       "      <td>-0.145091</td>\n",
       "      <td>-0.204320</td>\n",
       "      <td>0.491894</td>\n",
       "      <td>-0.083601</td>\n",
       "      <td>0.079769</td>\n",
       "      <td>-0.014927</td>\n",
       "      <td>0.024052</td>\n",
       "      <td>-0.012725</td>\n",
       "      <td>-0.005618</td>\n",
       "      <td>-0.103469</td>\n",
       "      <td>0.027729</td>\n",
       "      <td>1.000000</td>\n",
       "    </tr>\n",
       "  </tbody>\n",
       "</table>\n",
       "</div>"
      ],
      "text/plain": [
       "                         Administrative  Administrative_Duration  \\\n",
       "Administrative                 1.000000                 0.600457   \n",
       "Administrative_Duration        0.600457                 1.000000   \n",
       "Informational                  0.375256                 0.301419   \n",
       "Informational_Duration         0.254813                 0.237211   \n",
       "ProductRelated                 0.428305                 0.286863   \n",
       "ProductRelated_Duration        0.371146                 0.353583   \n",
       "BounceRates                   -0.213096                -0.136913   \n",
       "ExitRates                     -0.311255                -0.201971   \n",
       "PageValues                     0.097017                 0.066228   \n",
       "SpecialDay                    -0.096951                -0.074666   \n",
       "Month                          0.047651                 0.028408   \n",
       "OperatingSystems              -0.006586                -0.007529   \n",
       "Browser                       -0.025622                -0.015742   \n",
       "Region                        -0.007262                -0.006729   \n",
       "TrafficType                   -0.034643                -0.014991   \n",
       "VisitorType                   -0.023492                -0.022407   \n",
       "Weekend                        0.023825                 0.013259   \n",
       "Revenue                        0.136330                 0.091768   \n",
       "\n",
       "                         Informational  Informational_Duration  \\\n",
       "Administrative                0.375256                0.254813   \n",
       "Administrative_Duration       0.301419                0.237211   \n",
       "Informational                 1.000000                0.618648   \n",
       "Informational_Duration        0.618648                1.000000   \n",
       "ProductRelated                0.372572                0.279082   \n",
       "ProductRelated_Duration       0.386052                0.346596   \n",
       "BounceRates                  -0.109095               -0.069878   \n",
       "ExitRates                    -0.159429               -0.102852   \n",
       "PageValues                    0.047406                0.030090   \n",
       "SpecialDay                   -0.049350               -0.031261   \n",
       "Month                         0.019146                0.005589   \n",
       "OperatingSystems             -0.009721               -0.009734   \n",
       "Browser                      -0.038787               -0.019573   \n",
       "Region                       -0.030317               -0.027891   \n",
       "TrafficType                  -0.035197               -0.025126   \n",
       "VisitorType                   0.057319                0.045596   \n",
       "Weekend                       0.034359                0.023193   \n",
       "Revenue                       0.093626                0.069358   \n",
       "\n",
       "                         ProductRelated  ProductRelated_Duration  BounceRates  \\\n",
       "Administrative                 0.428305                 0.371146    -0.213096   \n",
       "Administrative_Duration        0.286863                 0.353583    -0.136913   \n",
       "Informational                  0.372572                 0.386052    -0.109095   \n",
       "Informational_Duration         0.279082                 0.346596    -0.069878   \n",
       "ProductRelated                 1.000000                 0.860330    -0.192884   \n",
       "ProductRelated_Duration        0.860330                 1.000000    -0.173829   \n",
       "BounceRates                   -0.192884                -0.173829     1.000000   \n",
       "ExitRates                     -0.286082                -0.245265     0.902144   \n",
       "PageValues                     0.054201                 0.050923    -0.115799   \n",
       "SpecialDay                    -0.025839                -0.038122     0.088626   \n",
       "Month                          0.069523                 0.060447    -0.018898   \n",
       "OperatingSystems               0.004194                 0.002870     0.026811   \n",
       "Browser                       -0.013586                -0.007724    -0.015501   \n",
       "Region                        -0.040108                -0.034869     0.002787   \n",
       "TrafficType                   -0.044223                -0.037390     0.089184   \n",
       "VisitorType                    0.129521                 0.121887     0.132442   \n",
       "Weekend                        0.013477                 0.004903    -0.034808   \n",
       "Revenue                        0.156042                 0.150077    -0.145091   \n",
       "\n",
       "                         ExitRates  PageValues  SpecialDay     Month  \\\n",
       "Administrative           -0.311255    0.097017   -0.096951  0.047651   \n",
       "Administrative_Duration  -0.201971    0.066228   -0.074666  0.028408   \n",
       "Informational            -0.159429    0.047406   -0.049350  0.019146   \n",
       "Informational_Duration   -0.102852    0.030090   -0.031261  0.005589   \n",
       "ProductRelated           -0.286082    0.054201   -0.025839  0.069523   \n",
       "ProductRelated_Duration  -0.245265    0.050923   -0.038122  0.060447   \n",
       "BounceRates               0.902144   -0.115799    0.088626 -0.018898   \n",
       "ExitRates                 1.000000   -0.173627    0.117176 -0.035594   \n",
       "PageValues               -0.173627    1.000000   -0.064481  0.021322   \n",
       "SpecialDay                0.117176   -0.064481    1.000000  0.078991   \n",
       "Month                    -0.035594    0.021322    0.078991  1.000000   \n",
       "OperatingSystems          0.016345    0.018632    0.012806 -0.026862   \n",
       "Browser                  -0.003323    0.045908    0.003528 -0.042603   \n",
       "Region                   -0.000987    0.010588   -0.016450 -0.031269   \n",
       "TrafficType               0.087478    0.012286    0.052856  0.044678   \n",
       "VisitorType               0.177935   -0.110323    0.086615  0.026063   \n",
       "Weekend                  -0.053061    0.010801   -0.017723  0.030034   \n",
       "Revenue                  -0.204320    0.491894   -0.083601  0.079769   \n",
       "\n",
       "                         OperatingSystems   Browser    Region  TrafficType  \\\n",
       "Administrative                  -0.006586 -0.025622 -0.007262    -0.034643   \n",
       "Administrative_Duration         -0.007529 -0.015742 -0.006729    -0.014991   \n",
       "Informational                   -0.009721 -0.038787 -0.030317    -0.035197   \n",
       "Informational_Duration          -0.009734 -0.019573 -0.027891    -0.025126   \n",
       "ProductRelated                   0.004194 -0.013586 -0.040108    -0.044223   \n",
       "ProductRelated_Duration          0.002870 -0.007724 -0.034869    -0.037390   \n",
       "BounceRates                      0.026811 -0.015501  0.002787     0.089184   \n",
       "ExitRates                        0.016345 -0.003323 -0.000987     0.087478   \n",
       "PageValues                       0.018632  0.045908  0.010588     0.012286   \n",
       "SpecialDay                       0.012806  0.003528 -0.016450     0.052856   \n",
       "Month                           -0.026862 -0.042603 -0.031269     0.044678   \n",
       "OperatingSystems                 1.000000  0.212335  0.071864     0.183074   \n",
       "Browser                          0.212335  1.000000  0.092038     0.102868   \n",
       "Region                           0.071864  0.092038  1.000000     0.042873   \n",
       "TrafficType                      0.183074  0.102868  0.042873     1.000000   \n",
       "VisitorType                      0.004384 -0.019175 -0.034457    -0.000670   \n",
       "Weekend                          0.001894 -0.039704 -0.001553    -0.002133   \n",
       "Revenue                         -0.014927  0.024052 -0.012725    -0.005618   \n",
       "\n",
       "                         VisitorType   Weekend   Revenue  \n",
       "Administrative             -0.023492  0.023825  0.136330  \n",
       "Administrative_Duration    -0.022407  0.013259  0.091768  \n",
       "Informational               0.057319  0.034359  0.093626  \n",
       "Informational_Duration      0.045596  0.023193  0.069358  \n",
       "ProductRelated              0.129521  0.013477  0.156042  \n",
       "ProductRelated_Duration     0.121887  0.004903  0.150077  \n",
       "BounceRates                 0.132442 -0.034808 -0.145091  \n",
       "ExitRates                   0.177935 -0.053061 -0.204320  \n",
       "PageValues                 -0.110323  0.010801  0.491894  \n",
       "SpecialDay                  0.086615 -0.017723 -0.083601  \n",
       "Month                       0.026063  0.030034  0.079769  \n",
       "OperatingSystems            0.004384  0.001894 -0.014927  \n",
       "Browser                    -0.019175 -0.039704  0.024052  \n",
       "Region                     -0.034457 -0.001553 -0.012725  \n",
       "TrafficType                -0.000670 -0.002133 -0.005618  \n",
       "VisitorType                 1.000000 -0.042648 -0.103469  \n",
       "Weekend                    -0.042648  1.000000  0.027729  \n",
       "Revenue                    -0.103469  0.027729  1.000000  "
      ]
     },
     "execution_count": 228,
     "metadata": {},
     "output_type": "execute_result"
    }
   ],
   "source": [
    "scaled_df.corr()"
   ]
  },
  {
   "cell_type": "code",
   "execution_count": 229,
   "id": "c1835211",
   "metadata": {
    "scrolled": false
   },
   "outputs": [
    {
     "data": {
      "text/plain": [
       "<AxesSubplot: >"
      ]
     },
     "execution_count": 229,
     "metadata": {},
     "output_type": "execute_result"
    },
    {
     "data": {
      "image/png": "[encoded data removed]",
      "text/plain": [
       "<Figure size 1080x576 with 2 Axes>"
      ]
     },
     "metadata": {
      "needs_background": "light"
     },
     "output_type": "display_data"
    }
   ],
   "source": [
    "# Using heatmap to visualize the correlation:\n",
    "\n",
    "plt.figure(figsize=(15,8))\n",
    "sns.heatmap(scaled_df.corr(),annot=True)"
   ]
  },
  {
   "cell_type": "markdown",
   "id": "1169d2eb",
   "metadata": {},
   "source": [
    "- BounceRates, ExitRates, SpecialDay, OperatingSystems, Region, VisitorType and TrafficType have little correlation with Revenue, the variables will be dropped during feature selection"
   ]
  },
  {
   "cell_type": "markdown",
   "id": "f5b9eb5d",
   "metadata": {},
   "source": [
    "#### Import ML Algorithms and Initialize"
   ]
  },
  {
   "cell_type": "markdown",
   "id": "89b9ce85",
   "metadata": {},
   "source": [
    "- In this process, six (6) regression models are built and trained, which are Random Forest, Decision Tree Regressor, XGBoost, Linear Regression, Support Vector Regression, and Gradient Boosting Regressor. First, we define a variable to store the model algorithm, next, we fit the train set variables into the model, and finally make some predictions in the test set."
   ]
  },
  {
   "cell_type": "code",
   "execution_count": 230,
   "id": "b6223cd1",
   "metadata": {},
   "outputs": [],
   "source": [
    "#import and load libraries\n",
    "import sklearn\n",
    "\n",
    "import xgboost as xgb\n",
    "from sklearn.tree import DecisionTreeRegressor\n",
    "from sklearn.ensemble import RandomForestRegressor\n",
    "from sklearn.svm import SVR\n",
    "from sklearn.ensemble import GradientBoostingRegressor\n",
    "from sklearn.linear_model import LinearRegression\n",
    "\n",
    "from sklearn.metrics import accuracy_score, classification_report\n",
    "from sklearn import tree\n",
    "import seaborn as sns\n",
    "\n",
    "from sklearn.metrics import mean_squared_error\n",
    "from sklearn.metrics import mean_absolute_error\n",
    "from sklearn.metrics import r2_score\n",
    "\n",
    "from sklearn.model_selection import train_test_split"
   ]
  },
  {
   "cell_type": "markdown",
   "id": "b9706ff3",
   "metadata": {},
   "source": [
    "#### Select Target"
   ]
  },
  {
   "cell_type": "code",
   "execution_count": 231,
   "id": "35a8be55",
   "metadata": {},
   "outputs": [],
   "source": [
    "y = scaled_df.Revenue"
   ]
  },
  {
   "cell_type": "code",
   "execution_count": 232,
   "id": "9f18dfae",
   "metadata": {},
   "outputs": [
    {
     "data": {
      "text/plain": [
       "0    0.0\n",
       "1    0.0\n",
       "2    0.0\n",
       "3    0.0\n",
       "4    0.0\n",
       "Name: Revenue, dtype: float64"
      ]
     },
     "execution_count": 232,
     "metadata": {},
     "output_type": "execute_result"
    }
   ],
   "source": [
    "y.head()"
   ]
  },
  {
   "cell_type": "markdown",
   "id": "f495fbfa",
   "metadata": {},
   "source": [
    "#### Select Features"
   ]
  },
  {
   "cell_type": "markdown",
   "id": "785cc983",
   "metadata": {},
   "source": [
    "- We are dropping BounceRates, ExitRates, SpecialDay, OperatingSystems, Region, VisitorType and TrafficType, since the variables have little correlation with Revenue"
   ]
  },
  {
   "cell_type": "code",
   "execution_count": 233,
   "id": "e444d78a",
   "metadata": {},
   "outputs": [
    {
     "data": {
      "text/plain": [
       "(12205, 10)"
      ]
     },
     "execution_count": 233,
     "metadata": {},
     "output_type": "execute_result"
    }
   ],
   "source": [
    "features = scaled_df.drop(['Revenue', 'BounceRates', 'ExitRates', 'SpecialDay',\n",
    "                           'OperatingSystems', 'Region', 'VisitorType', 'TrafficType'],axis=1)\n",
    "features.shape"
   ]
  },
  {
   "cell_type": "code",
   "execution_count": 234,
   "id": "cdfe0b7f",
   "metadata": {},
   "outputs": [],
   "source": [
    "X = scaled_df[features.columns]"
   ]
  },
  {
   "cell_type": "markdown",
   "id": "b0f5f168",
   "metadata": {},
   "source": [
    "#### Train Test Split"
   ]
  },
  {
   "cell_type": "code",
   "execution_count": 235,
   "id": "a8bdbc8c",
   "metadata": {},
   "outputs": [],
   "source": [
    "X_train,X_test,y_train,y_test=train_test_split(X,y,test_size=0.3, random_state=42)"
   ]
  },
  {
   "cell_type": "markdown",
   "id": "1bdde8ee",
   "metadata": {},
   "source": [
    "#### Random Forest Regressor"
   ]
  },
  {
   "cell_type": "code",
   "execution_count": 236,
   "id": "312c2462",
   "metadata": {},
   "outputs": [],
   "source": [
    "RF_model = RandomForestRegressor(n_estimators=400,random_state=30)"
   ]
  },
  {
   "cell_type": "code",
   "execution_count": 237,
   "id": "689c6212",
   "metadata": {},
   "outputs": [
    {
     "data": {
      "text/plain": [
       "RandomForestRegressor(n_estimators=400, random_state=30)"
      ]
     },
     "execution_count": 237,
     "metadata": {},
     "output_type": "execute_result"
    }
   ],
   "source": [
    "#fit the model on the training data\n",
    "RF_model.fit(X_train, y_train)"
   ]
  },
  {
   "cell_type": "code",
   "execution_count": 238,
   "id": "18efba9a",
   "metadata": {},
   "outputs": [],
   "source": [
    "#predict on test data\n",
    "preds_RF = RF_model.predict(X_test)"
   ]
  },
  {
   "cell_type": "code",
   "execution_count": 239,
   "id": "699976bb",
   "metadata": {},
   "outputs": [
    {
     "name": "stdout",
     "output_type": "stream",
     "text": [
      "0.14451439195286475\n"
     ]
    }
   ],
   "source": [
    "mae_RF = mean_absolute_error(y_test,preds_RF)\n",
    "print(mae_RF)"
   ]
  },
  {
   "cell_type": "code",
   "execution_count": 240,
   "id": "cc35ba6d",
   "metadata": {},
   "outputs": [
    {
     "name": "stdout",
     "output_type": "stream",
     "text": [
      "0.07399447969905011\n"
     ]
    }
   ],
   "source": [
    "mse_RF = mean_squared_error(y_test,preds_RF)\n",
    "print(mse_RF)"
   ]
  },
  {
   "cell_type": "code",
   "execution_count": 241,
   "id": "e75ed091",
   "metadata": {},
   "outputs": [
    {
     "name": "stdout",
     "output_type": "stream",
     "text": [
      "0.2720192634705309\n"
     ]
    }
   ],
   "source": [
    "rmse_RF = np.sqrt(mean_squared_error(y_test,preds_RF))\n",
    "print(rmse_RF)"
   ]
  },
  {
   "cell_type": "code",
   "execution_count": 242,
   "id": "9291cfdb",
   "metadata": {},
   "outputs": [
    {
     "name": "stdout",
     "output_type": "stream",
     "text": [
      "0.4167618698379928\n"
     ]
    }
   ],
   "source": [
    "r2_RF = r2_score(y_test, preds_RF) #coefficient of determination\n",
    "print(r2_RF)"
   ]
  },
  {
   "cell_type": "markdown",
   "id": "c3c67a82",
   "metadata": {},
   "source": [
    "#### Linear Regression"
   ]
  },
  {
   "cell_type": "code",
   "execution_count": 243,
   "id": "6a019716",
   "metadata": {},
   "outputs": [],
   "source": [
    "LRS_model = LinearRegression()"
   ]
  },
  {
   "cell_type": "code",
   "execution_count": 244,
   "id": "134bdb77",
   "metadata": {},
   "outputs": [
    {
     "data": {
      "text/plain": [
       "LinearRegression()"
      ]
     },
     "execution_count": 244,
     "metadata": {},
     "output_type": "execute_result"
    }
   ],
   "source": [
    "LRS_model.fit(X_train, y_train)"
   ]
  },
  {
   "cell_type": "code",
   "execution_count": 245,
   "id": "afe9f3a2",
   "metadata": {},
   "outputs": [],
   "source": [
    "preds_LRS = LRS_model.predict(X_test)"
   ]
  },
  {
   "cell_type": "code",
   "execution_count": 246,
   "id": "7866e8b5",
   "metadata": {},
   "outputs": [
    {
     "name": "stdout",
     "output_type": "stream",
     "text": [
      "0.19788153539642372\n"
     ]
    }
   ],
   "source": [
    "mae_LRS = mean_absolute_error(y_test,preds_LRS)\n",
    "print(mae_LRS)"
   ]
  },
  {
   "cell_type": "code",
   "execution_count": 247,
   "id": "fac2a3ad",
   "metadata": {},
   "outputs": [
    {
     "name": "stdout",
     "output_type": "stream",
     "text": [
      "0.09257090261743814\n"
     ]
    }
   ],
   "source": [
    "mse_LRS = mean_squared_error(y_test,preds_LRS)\n",
    "print(mse_LRS)"
   ]
  },
  {
   "cell_type": "code",
   "execution_count": 248,
   "id": "af889c5c",
   "metadata": {},
   "outputs": [
    {
     "name": "stdout",
     "output_type": "stream",
     "text": [
      "0.3042546673716578\n"
     ]
    }
   ],
   "source": [
    "rmse_LRS = np.sqrt(mean_squared_error(y_test,preds_LRS))\n",
    "print(rmse_LRS)"
   ]
  },
  {
   "cell_type": "code",
   "execution_count": 249,
   "id": "2f3e8e31",
   "metadata": {},
   "outputs": [
    {
     "name": "stdout",
     "output_type": "stream",
     "text": [
      "0.2703390797584462\n"
     ]
    }
   ],
   "source": [
    "r2_LRS = r2_score(y_test, preds_LRS) #coefficient of determination\n",
    "print(r2_LRS)"
   ]
  },
  {
   "cell_type": "markdown",
   "id": "575a3fab",
   "metadata": {},
   "source": [
    "#### XGBoost Regression"
   ]
  },
  {
   "cell_type": "code",
   "execution_count": 250,
   "id": "8c211e13",
   "metadata": {},
   "outputs": [],
   "source": [
    "xgb_model = xgb.XGBRegressor(objective ='reg:linear',\n",
    "                  n_estimators = 60, seed = 123, silent=True)"
   ]
  },
  {
   "cell_type": "code",
   "execution_count": 251,
   "id": "64972298",
   "metadata": {
    "scrolled": false
   },
   "outputs": [
    {
     "data": {
      "text/plain": [
       "XGBRegressor(n_estimators=60, seed=123, silent=True)"
      ]
     },
     "execution_count": 251,
     "metadata": {},
     "output_type": "execute_result"
    }
   ],
   "source": [
    "xgb_model.fit(X_train, y_train)"
   ]
  },
  {
   "cell_type": "code",
   "execution_count": 252,
   "id": "6a6a4e8c",
   "metadata": {},
   "outputs": [],
   "source": [
    "preds_xgb = xgb_model.predict(X_test)"
   ]
  },
  {
   "cell_type": "code",
   "execution_count": 253,
   "id": "3ab9eebb",
   "metadata": {},
   "outputs": [
    {
     "name": "stdout",
     "output_type": "stream",
     "text": [
      "0.1460914378980676\n"
     ]
    }
   ],
   "source": [
    "mae_xgb = mean_absolute_error(y_test,preds_xgb)\n",
    "print(mae_xgb)"
   ]
  },
  {
   "cell_type": "code",
   "execution_count": 254,
   "id": "8ea32349",
   "metadata": {
    "scrolled": true
   },
   "outputs": [
    {
     "name": "stdout",
     "output_type": "stream",
     "text": [
      "0.07028436072698098\n"
     ]
    }
   ],
   "source": [
    "mse_xgb = mean_squared_error(y_test,preds_xgb)\n",
    "print(mse_xgb)"
   ]
  },
  {
   "cell_type": "code",
   "execution_count": 255,
   "id": "d0ca085a",
   "metadata": {
    "scrolled": true
   },
   "outputs": [
    {
     "name": "stdout",
     "output_type": "stream",
     "text": [
      "0.2651119777131561\n"
     ]
    }
   ],
   "source": [
    "rmse_xgb = np.sqrt(mean_squared_error(y_test,preds_xgb))\n",
    "print(rmse_xgb)"
   ]
  },
  {
   "cell_type": "code",
   "execution_count": 256,
   "id": "9fb6d9a9",
   "metadata": {},
   "outputs": [
    {
     "name": "stdout",
     "output_type": "stream",
     "text": [
      "0.4460057115509032\n"
     ]
    }
   ],
   "source": [
    "r2_xgb = r2_score(y_test, preds_xgb) #coefficient of determination\n",
    "print(r2_xgb)"
   ]
  },
  {
   "cell_type": "markdown",
   "id": "cbfe1dec",
   "metadata": {},
   "source": [
    "#### Decision Tree Regressor"
   ]
  },
  {
   "cell_type": "code",
   "execution_count": 257,
   "id": "1578d91b",
   "metadata": {},
   "outputs": [],
   "source": [
    "DT_model = DecisionTreeRegressor()"
   ]
  },
  {
   "cell_type": "code",
   "execution_count": 258,
   "id": "94c3a944",
   "metadata": {},
   "outputs": [
    {
     "data": {
      "text/plain": [
       "DecisionTreeRegressor()"
      ]
     },
     "execution_count": 258,
     "metadata": {},
     "output_type": "execute_result"
    }
   ],
   "source": [
    "DT_model.fit(X_train, y_train)"
   ]
  },
  {
   "cell_type": "code",
   "execution_count": 259,
   "id": "fc57134f",
   "metadata": {},
   "outputs": [],
   "source": [
    "preds_DT = DT_model.predict(X_test)"
   ]
  },
  {
   "cell_type": "code",
   "execution_count": 260,
   "id": "ae468919",
   "metadata": {},
   "outputs": [
    {
     "name": "stdout",
     "output_type": "stream",
     "text": [
      "0.14095212088112144\n"
     ]
    }
   ],
   "source": [
    "mae_DT = mean_absolute_error(y_test,preds_DT)\n",
    "print(mae_DT)"
   ]
  },
  {
   "cell_type": "code",
   "execution_count": 261,
   "id": "fb00141c",
   "metadata": {},
   "outputs": [
    {
     "name": "stdout",
     "output_type": "stream",
     "text": [
      "0.1409141938224407\n"
     ]
    }
   ],
   "source": [
    "mse_DT = mean_squared_error(y_test,preds_DT)\n",
    "print(mse_DT)"
   ]
  },
  {
   "cell_type": "code",
   "execution_count": 262,
   "id": "2a9fd8bd",
   "metadata": {},
   "outputs": [
    {
     "name": "stdout",
     "output_type": "stream",
     "text": [
      "0.3753853937254894\n"
     ]
    }
   ],
   "source": [
    "rmse_DT = np.sqrt(mean_squared_error(y_test,preds_DT))\n",
    "print(rmse_DT)"
   ]
  },
  {
   "cell_type": "code",
   "execution_count": 263,
   "id": "f68067a4",
   "metadata": {},
   "outputs": [
    {
     "name": "stdout",
     "output_type": "stream",
     "text": [
      "-0.11071165379573622\n"
     ]
    }
   ],
   "source": [
    "r2_DT = r2_score(y_test, preds_DT) #coefficient of determination\n",
    "print(r2_DT)"
   ]
  },
  {
   "cell_type": "markdown",
   "id": "de6b7924",
   "metadata": {},
   "source": [
    "#### Support Vector Regression"
   ]
  },
  {
   "cell_type": "code",
   "execution_count": 264,
   "id": "f9022971",
   "metadata": {},
   "outputs": [],
   "source": [
    "SVR_model = SVR()"
   ]
  },
  {
   "cell_type": "code",
   "execution_count": 265,
   "id": "2d421b9c",
   "metadata": {},
   "outputs": [
    {
     "data": {
      "text/plain": [
       "SVR()"
      ]
     },
     "execution_count": 265,
     "metadata": {},
     "output_type": "execute_result"
    }
   ],
   "source": [
    "SVR_model.fit(X_train, y_train)"
   ]
  },
  {
   "cell_type": "code",
   "execution_count": 266,
   "id": "ea944ee6",
   "metadata": {},
   "outputs": [],
   "source": [
    "preds_SVR = SVR_model.predict(X_test)"
   ]
  },
  {
   "cell_type": "code",
   "execution_count": 267,
   "id": "39454c59",
   "metadata": {},
   "outputs": [
    {
     "name": "stdout",
     "output_type": "stream",
     "text": [
      "0.18756678342026037\n"
     ]
    }
   ],
   "source": [
    "mae_SVR = mean_absolute_error(y_test,preds_SVR)\n",
    "print(mae_SVR)"
   ]
  },
  {
   "cell_type": "code",
   "execution_count": 268,
   "id": "30d231ca",
   "metadata": {
    "scrolled": true
   },
   "outputs": [
    {
     "name": "stdout",
     "output_type": "stream",
     "text": [
      "0.08531909406573203\n"
     ]
    }
   ],
   "source": [
    "mse_SVR = mean_squared_error(y_test,preds_SVR)\n",
    "print(mse_SVR)"
   ]
  },
  {
   "cell_type": "code",
   "execution_count": 269,
   "id": "6a46a25c",
   "metadata": {},
   "outputs": [
    {
     "name": "stdout",
     "output_type": "stream",
     "text": [
      "0.29209432391905876\n"
     ]
    }
   ],
   "source": [
    "rmse_SVR = np.sqrt(mean_squared_error(y_test,preds_SVR))\n",
    "print(rmse_SVR)"
   ]
  },
  {
   "cell_type": "code",
   "execution_count": 270,
   "id": "9c856acb",
   "metadata": {},
   "outputs": [
    {
     "name": "stdout",
     "output_type": "stream",
     "text": [
      "0.3274991716624942\n"
     ]
    }
   ],
   "source": [
    "r2_SVR = r2_score(y_test, preds_SVR) #coefficient of determination\n",
    "print(r2_SVR)"
   ]
  },
  {
   "cell_type": "markdown",
   "id": "49010c07",
   "metadata": {},
   "source": [
    "#### Gradient Boosting Regressor"
   ]
  },
  {
   "cell_type": "code",
   "execution_count": 271,
   "id": "f36dc611",
   "metadata": {},
   "outputs": [],
   "source": [
    "GBR_model=GradientBoostingRegressor(n_estimators=100, max_depth=5, min_samples_split=2,learning_rate=0.2)"
   ]
  },
  {
   "cell_type": "code",
   "execution_count": 272,
   "id": "e9563987",
   "metadata": {},
   "outputs": [
    {
     "data": {
      "text/plain": [
       "GradientBoostingRegressor(learning_rate=0.2, max_depth=5)"
      ]
     },
     "execution_count": 272,
     "metadata": {},
     "output_type": "execute_result"
    }
   ],
   "source": [
    "GBR_model.fit(X_train, y_train)"
   ]
  },
  {
   "cell_type": "code",
   "execution_count": 273,
   "id": "a8ec1bf9",
   "metadata": {},
   "outputs": [],
   "source": [
    "preds_GBR=GBR_model.predict(X_test)"
   ]
  },
  {
   "cell_type": "code",
   "execution_count": 274,
   "id": "8c477a06",
   "metadata": {},
   "outputs": [
    {
     "name": "stdout",
     "output_type": "stream",
     "text": [
      "0.1460662539477889\n"
     ]
    }
   ],
   "source": [
    "mae_GBR = mean_absolute_error(y_test,preds_GBR)\n",
    "print(mae_GBR)"
   ]
  },
  {
   "cell_type": "code",
   "execution_count": 275,
   "id": "4a4bfd4e",
   "metadata": {
    "scrolled": true
   },
   "outputs": [
    {
     "name": "stdout",
     "output_type": "stream",
     "text": [
      "0.07622167690147141\n"
     ]
    }
   ],
   "source": [
    "mse_GBR = mean_squared_error(y_test,preds_GBR)\n",
    "print(mse_GBR)"
   ]
  },
  {
   "cell_type": "code",
   "execution_count": 276,
   "id": "304cf469",
   "metadata": {
    "scrolled": true
   },
   "outputs": [
    {
     "name": "stdout",
     "output_type": "stream",
     "text": [
      "0.2760827356092217\n"
     ]
    }
   ],
   "source": [
    "rmse_GBR = np.sqrt(mean_squared_error(y_test,preds_GBR))\n",
    "print(rmse_GBR)"
   ]
  },
  {
   "cell_type": "code",
   "execution_count": 277,
   "id": "75938a43",
   "metadata": {
    "scrolled": true
   },
   "outputs": [
    {
     "name": "stdout",
     "output_type": "stream",
     "text": [
      "0.399206690895922\n"
     ]
    }
   ],
   "source": [
    "r2_GBR = r2_score(y_test, preds_GBR) #coefficient of determination\n",
    "print(r2_GBR)"
   ]
  },
  {
   "cell_type": "markdown",
   "id": "e791019e",
   "metadata": {},
   "source": [
    "### Evaluation of the Models\n",
    "The models are evaluated using various metrics. These are the Mean Absolute Error (mae), the Mean Squared Error (mse), the Root Mean Squared Error (rmse) and the Coefficient of Determination (r-squared)."
   ]
  },
  {
   "cell_type": "markdown",
   "id": "31674631",
   "metadata": {},
   "source": [
    "#### Calculating Mean Absolute Error"
   ]
  },
  {
   "cell_type": "code",
   "execution_count": 278,
   "id": "d8c7ad3c",
   "metadata": {},
   "outputs": [
    {
     "name": "stdout",
     "output_type": "stream",
     "text": [
      "Mean Absolute Error with Random Forest:  0.14451439195286475\n",
      "Mean Absolute Error with Linear Regression:  0.19788153539642372\n",
      "Mean Absolute Error with XGBoost Regression:  0.1460914378980676\n",
      "Mean Absolute Error with Decision Tree:  0.14095212088112144\n",
      "Mean Absolute Error with Support Vector Regression:  0.18756678342026037\n",
      "Mean Absolute Error with Gradient Boosting Regressor:  0.1460662539477889\n"
     ]
    }
   ],
   "source": [
    "mae_RF = mean_absolute_error(y_test,preds_RF)\n",
    "mae_LRS = mean_absolute_error(y_test,preds_LRS)\n",
    "mae_xgb = mean_absolute_error(y_test,preds_xgb)\n",
    "mae_DT = mean_absolute_error(y_test,preds_DT)\n",
    "mae_SVR = mean_absolute_error(y_test,preds_SVR)\n",
    "mae_GBR = mean_absolute_error(y_test,preds_GBR)\n",
    "\n",
    "\n",
    "print('Mean Absolute Error with Random Forest: ',mae_RF)\n",
    "print('Mean Absolute Error with Linear Regression: ',mae_LRS)\n",
    "print('Mean Absolute Error with XGBoost Regression: ',mae_xgb)\n",
    "print('Mean Absolute Error with Decision Tree: ',mae_DT)\n",
    "print('Mean Absolute Error with Support Vector Regression: ',mae_SVR)\n",
    "print('Mean Absolute Error with Gradient Boosting Regressor: ',mae_GBR)"
   ]
  },
  {
   "cell_type": "markdown",
   "id": "7e4a2a0c",
   "metadata": {},
   "source": [
    "#### Calculating Mean Squared Error"
   ]
  },
  {
   "cell_type": "code",
   "execution_count": 279,
   "id": "7a279823",
   "metadata": {},
   "outputs": [
    {
     "name": "stdout",
     "output_type": "stream",
     "text": [
      "Mean Squared Error with Random Forest:  0.07399447969905011\n",
      "Mean Squared Error with Linear Regression:  0.09257090261743814\n",
      "Mean Squared Error with XGBoost Regression:  0.07028436072698098\n",
      "Mean Squared Error with Decision Tree:  0.1409141938224407\n",
      "Mean Squared Error with Support Vector Regression:  0.08531909406573203\n",
      "Mean Squared Error with Gradient Boosting Regressor:  0.07622167690147141\n"
     ]
    }
   ],
   "source": [
    "mse_RF = mean_squared_error(y_test,preds_RF)\n",
    "mse_LRS = mean_squared_error(y_test,preds_LRS)\n",
    "mse_xgb = mean_squared_error(y_test,preds_xgb)\n",
    "mse_DT = mean_squared_error(y_test,preds_DT)\n",
    "mse_SVR = mean_squared_error(y_test,preds_SVR)\n",
    "mse_GBR = mean_squared_error(y_test,preds_GBR)\n",
    "\n",
    "\n",
    "print('Mean Squared Error with Random Forest: ',mse_RF)\n",
    "print('Mean Squared Error with Linear Regression: ',mse_LRS)\n",
    "print('Mean Squared Error with XGBoost Regression: ',mse_xgb)\n",
    "print('Mean Squared Error with Decision Tree: ',mse_DT)\n",
    "print('Mean Squared Error with Support Vector Regression: ',mse_SVR)\n",
    "print('Mean Squared Error with Gradient Boosting Regressor: ',mse_GBR)"
   ]
  },
  {
   "cell_type": "markdown",
   "id": "7f0ed80c",
   "metadata": {},
   "source": [
    "#### Calculating Root Mean Squared Error"
   ]
  },
  {
   "cell_type": "code",
   "execution_count": 280,
   "id": "28f3a7fa",
   "metadata": {},
   "outputs": [
    {
     "name": "stdout",
     "output_type": "stream",
     "text": [
      "Root Mean Squared Error with Random Forest:  0.2720192634705309\n",
      "Root Mean Squared Error with Linear Regression:  0.3042546673716578\n",
      "Root Mean Squared Error with XGBoost Regression:  0.2651119777131561\n",
      "Root Mean Squared Error with Decision Tree:  0.3753853937254894\n",
      "Root Mean Squared Error with Support Vector Regression:  0.29209432391905876\n",
      "Root Mean Squared Error with Gradient Boosting Regressor:  0.2760827356092217\n"
     ]
    }
   ],
   "source": [
    "rmse_RF = np.sqrt(mean_squared_error(y_test,preds_RF))\n",
    "rmse_LRS = np.sqrt(mean_squared_error(y_test,preds_LRS))\n",
    "rmse_xgb = np.sqrt(mean_squared_error(y_test,preds_xgb))\n",
    "rmse_DT = np.sqrt(mean_squared_error(y_test,preds_DT))\n",
    "rmse_SVR = np.sqrt(mean_squared_error(y_test,preds_SVR))\n",
    "rmse_GBR = np.sqrt(mean_squared_error(y_test,preds_GBR))\n",
    "\n",
    "\n",
    "print('Root Mean Squared Error with Random Forest: ',rmse_RF)\n",
    "print('Root Mean Squared Error with Linear Regression: ',rmse_LRS)\n",
    "print('Root Mean Squared Error with XGBoost Regression: ',rmse_xgb)\n",
    "print('Root Mean Squared Error with Decision Tree: ',rmse_DT)\n",
    "print('Root Mean Squared Error with Support Vector Regression: ',rmse_SVR)\n",
    "print('Root Mean Squared Error with Gradient Boosting Regressor: ',rmse_GBR)"
   ]
  },
  {
   "cell_type": "markdown",
   "id": "500b8be7",
   "metadata": {},
   "source": [
    "#### Coefficient of determination"
   ]
  },
  {
   "cell_type": "code",
   "execution_count": 281,
   "id": "5dacdfd0",
   "metadata": {},
   "outputs": [
    {
     "name": "stdout",
     "output_type": "stream",
     "text": [
      "Coefficient of detremination with Random Forest:  0.2703390797584462\n",
      "Coefficient of detremination with Linear Regression:  0.2703390797584462\n",
      "Coefficient of detremination with XGBoost Regression:  0.4460057115509032\n",
      "Coefficient of detremination with Decision Tree:  -0.11071165379573622\n",
      "Coefficient of detremination with Support Vector Regression:  0.3274991716624942\n",
      "Coefficient of detremination with Gradient Boosting Regressor:  0.399206690895922\n"
     ]
    }
   ],
   "source": [
    "r2_RF = r2_score(y_test,preds_RF)\n",
    "r2_RF = r2_score(y_test,preds_LRS)\n",
    "r2_xgb = r2_score(y_test,preds_xgb)\n",
    "r2_DT = r2_score(y_test,preds_DT)\n",
    "r2_SVR = r2_score(y_test,preds_SVR)\n",
    "r2_GBR = r2_score(y_test,preds_GBR)\n",
    "\n",
    "\n",
    "print('Coefficient of detremination with Random Forest: ',r2_RF)\n",
    "print('Coefficient of detremination with Linear Regression: ',r2_LRS)\n",
    "print('Coefficient of detremination with XGBoost Regression: ',r2_xgb)\n",
    "print('Coefficient of detremination with Decision Tree: ',r2_DT)\n",
    "print('Coefficient of detremination with Support Vector Regression: ',r2_SVR)\n",
    "print('Coefficient of detremination with Gradient Boosting Regressor: ',r2_GBR)"
   ]
  },
  {
   "cell_type": "code",
   "execution_count": 288,
   "id": "e25663b2",
   "metadata": {},
   "outputs": [
    {
     "data": {
      "text/html": [
       "<div>\n",
       "<style scoped>\n",
       "    .dataframe tbody tr th:only-of-type {\n",
       "        vertical-align: middle;\n",
       "    }\n",
       "\n",
       "    .dataframe tbody tr th {\n",
       "        vertical-align: top;\n",
       "    }\n",
       "\n",
       "    .dataframe thead th {\n",
       "        text-align: right;\n",
       "    }\n",
       "</style>\n",
       "<table border=\"1\" class=\"dataframe\">\n",
       "  <thead>\n",
       "    <tr style=\"text-align: right;\">\n",
       "      <th></th>\n",
       "      <th>Model</th>\n",
       "      <th>MAE</th>\n",
       "      <th>MSE</th>\n",
       "      <th>RMSE</th>\n",
       "      <th>COE</th>\n",
       "    </tr>\n",
       "  </thead>\n",
       "  <tbody>\n",
       "    <tr>\n",
       "      <th>3</th>\n",
       "      <td>XGBoost Regression</td>\n",
       "      <td>0.146091</td>\n",
       "      <td>0.070284</td>\n",
       "      <td>0.265112</td>\n",
       "      <td>0.446006</td>\n",
       "    </tr>\n",
       "    <tr>\n",
       "      <th>5</th>\n",
       "      <td>Gradient Boosting Regressor</td>\n",
       "      <td>0.146066</td>\n",
       "      <td>0.076222</td>\n",
       "      <td>0.276083</td>\n",
       "      <td>0.399207</td>\n",
       "    </tr>\n",
       "    <tr>\n",
       "      <th>4</th>\n",
       "      <td>Support Vector Regression</td>\n",
       "      <td>0.187567</td>\n",
       "      <td>0.085319</td>\n",
       "      <td>0.292094</td>\n",
       "      <td>0.327499</td>\n",
       "    </tr>\n",
       "    <tr>\n",
       "      <th>0</th>\n",
       "      <td>Random Forest Regressor</td>\n",
       "      <td>0.144514</td>\n",
       "      <td>0.073994</td>\n",
       "      <td>0.272019</td>\n",
       "      <td>0.270339</td>\n",
       "    </tr>\n",
       "    <tr>\n",
       "      <th>1</th>\n",
       "      <td>Linear Regression</td>\n",
       "      <td>0.197882</td>\n",
       "      <td>0.092571</td>\n",
       "      <td>0.304255</td>\n",
       "      <td>0.270339</td>\n",
       "    </tr>\n",
       "    <tr>\n",
       "      <th>2</th>\n",
       "      <td>Decision Tree Regressor</td>\n",
       "      <td>0.140952</td>\n",
       "      <td>0.140914</td>\n",
       "      <td>0.375385</td>\n",
       "      <td>-0.110712</td>\n",
       "    </tr>\n",
       "  </tbody>\n",
       "</table>\n",
       "</div>"
      ],
      "text/plain": [
       "                         Model       MAE       MSE      RMSE       COE\n",
       "3           XGBoost Regression  0.146091  0.070284  0.265112  0.446006\n",
       "5  Gradient Boosting Regressor  0.146066  0.076222  0.276083  0.399207\n",
       "4    Support Vector Regression  0.187567  0.085319  0.292094  0.327499\n",
       "0      Random Forest Regressor  0.144514  0.073994  0.272019  0.270339\n",
       "1            Linear Regression  0.197882  0.092571  0.304255  0.270339\n",
       "2      Decision Tree Regressor  0.140952  0.140914  0.375385 -0.110712"
      ]
     },
     "execution_count": 288,
     "metadata": {},
     "output_type": "execute_result"
    }
   ],
   "source": [
    "ML_models = pd.DataFrame({\n",
    "    'Model': ['Random Forest Regressor', 'Linear Regression', 'Decision Tree Regressor',\\\n",
    "              'XGBoost Regression','Support Vector Regression','Gradient Boosting Regressor'],\n",
    "    'MAE': [mae_RF,mae_LRS,mae_DT,mae_xgb,mae_SVR,mae_GBR],\n",
    "    'MSE': [mse_RF,mse_LRS,mse_DT,mse_xgb,mse_SVR,mse_GBR],\n",
    "    'RMSE': [rmse_RF,rmse_LRS,rmse_DT,rmse_xgb,rmse_SVR,rmse_GBR],\n",
    "    'COE': [r2_RF,r2_LRS,r2_DT,r2_xgb,r2_SVR,r2_GBR]})\n",
    "    \n",
    "Best_Model = ML_models.sort_values(by='COE', ascending=False)\n",
    "Best_Model"
   ]
  },
  {
   "cell_type": "markdown",
   "id": "d4f87e4f",
   "metadata": {},
   "source": [
    "- XGBoost Regression model surpasses all other models with the least errors and the highest R-squared value, which makes it the Best Performing Model."
   ]
  }
 ],
 "metadata": {
  "kernelspec": {
   "display_name": "Python 3 (ipykernel)",
   "language": "python",
   "name": "python3"
  },
  "language_info": {
   "codemirror_mode": {
    "name": "ipython",
    "version": 3
   },
   "file_extension": ".py",
   "mimetype": "text/x-python",
   "name": "python",
   "nbconvert_exporter": "python",
   "pygments_lexer": "ipython3",
   "version": "3.9.12"
  }
 },
 "nbformat": 4,
 "nbformat_minor": 5
}
